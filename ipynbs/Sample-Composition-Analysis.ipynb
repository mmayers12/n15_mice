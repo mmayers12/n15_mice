{
 "cells": [
  {
   "cell_type": "markdown",
   "metadata": {},
   "source": [
    "# Sample Composition Analysis: Microbiome vs Spirulina vs Mouse"
   ]
  },
  {
   "cell_type": "code",
   "execution_count": 1,
   "metadata": {
    "collapsed": true
   },
   "outputs": [],
   "source": [
    "#Boilerplate Import \n",
    "import sys\n",
    "sys.path.append('..')\n",
    "import os\n",
    "from itertools import chain\n",
    "from collections import defaultdict\n",
    "import numpy as np\n",
    "import pandas as pd\n",
    "%matplotlib inline\n",
    "import matplotlib.pyplot as plt\n",
    "import seaborn as sns\n",
    "\n",
    "from scripts import utils\n",
    "from scripts.analysis import build_loci"
   ]
  },
  {
   "cell_type": "code",
   "execution_count": 2,
   "metadata": {
    "collapsed": false
   },
   "outputs": [],
   "source": [
    "# Load data\n",
    "BASE = '../data'\n",
    "\n",
    "metadata = pd.read_csv(os.path.join(BASE,\"filt_metadata.csv\"), index_col=0)\n",
    "samp_names = list(metadata.index)\n",
    "\n",
    "unenr_grouped_loci = utils.load(os.path.join(BASE,\"unenriched_grouped_loci.pkl.gz\"))\n",
    "enr_grouped_loci = utils.load(os.path.join(BASE,\"enriched_grouped_loci.pkl.gz\"))\n",
    "grouped_loci = utils.load(os.path.join(BASE,\"grouped_loci.pkl.gz\"))"
   ]
  },
  {
   "cell_type": "code",
   "execution_count": 3,
   "metadata": {
    "collapsed": true
   },
   "outputs": [],
   "source": [
    "sample_pairs = metadata.reset_index().set_index(['enriched', 'technical']).sort_index().groupby(level=[0,1])\n",
    "\n",
    "pairs = []\n",
    "for x, y in sample_pairs:\n",
    "    pairs.append(list(y['index'].values))\n",
    "sample_names = list(chain(*pairs))\n",
    "\n",
    "n14_samps = [x[0] for x in pairs]\n",
    "n15_samps = [x[1] for x in pairs]\n",
    "\n",
    "n14_un_samps = [x for x in n14_samps if x.startswith('UL_')]\n",
    "n15_un_samps = [x for x in n15_samps if x.startswith('UL_')]\n",
    "\n",
    "n14_enr_samps = [x for x in n14_samps if x.startswith('CL_')]\n",
    "n15_enr_samps = [x for x in n15_samps if x.startswith('CL_')]"
   ]
  },
  {
   "cell_type": "code",
   "execution_count": 4,
   "metadata": {
    "collapsed": true
   },
   "outputs": [],
   "source": [
    "def get_count_prots(quant, samps):\n",
    "    out = dict()\n",
    "    for samp in samps:\n",
    "        if samp in quant.keys():\n",
    "            out[samp] = quant[samp]['counts']\n",
    "        else:\n",
    "            out[samp] = np.nan\n",
    "    return out"
   ]
  },
  {
   "cell_type": "code",
   "execution_count": 5,
   "metadata": {
    "collapsed": true
   },
   "outputs": [],
   "source": [
    "def count_only_dict(grouped_loci, samps):\n",
    "    prots = []\n",
    "    for prot in grouped_loci:\n",
    "        protd = {'id': prot.cluster_id,\n",
    "                'name': prot.name,\n",
    "                'lca': prot.lca,\n",
    "                'lca_organism': prot.lca_organism,\n",
    "                'gene': build_loci.get_gene_name(prot.name),\n",
    "                'genus': build_loci.get_genus(prot.name),\n",
    "                'spir': any(['Arthrospira' in inf['d'] for inf in prot.prot_info])}\n",
    "        protd.update(get_count_prots(prot.quantification, samps))\n",
    "        prots.append(protd)\n",
    "    return prots"
   ]
  },
  {
   "cell_type": "code",
   "execution_count": 6,
   "metadata": {
    "collapsed": false
   },
   "outputs": [],
   "source": [
    "dat = pd.DataFrame(count_only_dict(grouped_loci, samp_names))"
   ]
  },
  {
   "cell_type": "code",
   "execution_count": 7,
   "metadata": {
    "collapsed": false
   },
   "outputs": [
    {
     "data": {
      "text/html": [
       "<div>\n",
       "<table border=\"1\" class=\"dataframe\">\n",
       "  <thead>\n",
       "    <tr style=\"text-align: right;\">\n",
       "      <th></th>\n",
       "      <th>CL_Mix_1120_1</th>\n",
       "      <th>CL_Mix_1120_N_1</th>\n",
       "      <th>CL_Mix_Pool_1</th>\n",
       "      <th>CL_Mix_Pool_2</th>\n",
       "      <th>CL_Mix_Pool_3</th>\n",
       "      <th>CL_Mix_Pool_4</th>\n",
       "      <th>CL_Mix_Pool_5</th>\n",
       "      <th>CL_Mix_Pool_N_1</th>\n",
       "      <th>CL_Mix_Pool_N_2</th>\n",
       "      <th>CL_Mix_Pool_N_3</th>\n",
       "      <th>...</th>\n",
       "      <th>UL_Mix_1121_N_4</th>\n",
       "      <th>UL_Mix_Pool_1</th>\n",
       "      <th>UL_Mix_Pool_N_1</th>\n",
       "      <th>gene</th>\n",
       "      <th>genus</th>\n",
       "      <th>id</th>\n",
       "      <th>lca</th>\n",
       "      <th>lca_organism</th>\n",
       "      <th>name</th>\n",
       "      <th>spir</th>\n",
       "    </tr>\n",
       "  </thead>\n",
       "  <tbody>\n",
       "    <tr>\n",
       "      <th>0</th>\n",
       "      <td>NaN</td>\n",
       "      <td>NaN</td>\n",
       "      <td>4.0</td>\n",
       "      <td>4.0</td>\n",
       "      <td>3.0</td>\n",
       "      <td>4.0</td>\n",
       "      <td>5.0</td>\n",
       "      <td>0.0</td>\n",
       "      <td>NaN</td>\n",
       "      <td>0.0</td>\n",
       "      <td>...</td>\n",
       "      <td>NaN</td>\n",
       "      <td>20.0</td>\n",
       "      <td>0.0</td>\n",
       "      <td></td>\n",
       "      <td></td>\n",
       "      <td>58957830</td>\n",
       "      <td>NaN</td>\n",
       "      <td></td>\n",
       "      <td>1B-dyr7-07_GL0001150_1_306_+</td>\n",
       "      <td>False</td>\n",
       "    </tr>\n",
       "    <tr>\n",
       "      <th>1</th>\n",
       "      <td>24.0</td>\n",
       "      <td>0.0</td>\n",
       "      <td>25.0</td>\n",
       "      <td>16.0</td>\n",
       "      <td>8.0</td>\n",
       "      <td>27.0</td>\n",
       "      <td>11.0</td>\n",
       "      <td>0.0</td>\n",
       "      <td>0.0</td>\n",
       "      <td>0.0</td>\n",
       "      <td>...</td>\n",
       "      <td>0.0</td>\n",
       "      <td>18.0</td>\n",
       "      <td>0.0</td>\n",
       "      <td></td>\n",
       "      <td></td>\n",
       "      <td>167845895</td>\n",
       "      <td>NaN</td>\n",
       "      <td></td>\n",
       "      <td>54_GL0084505_1_1202_+</td>\n",
       "      <td>False</td>\n",
       "    </tr>\n",
       "    <tr>\n",
       "      <th>2</th>\n",
       "      <td>NaN</td>\n",
       "      <td>NaN</td>\n",
       "      <td>NaN</td>\n",
       "      <td>NaN</td>\n",
       "      <td>NaN</td>\n",
       "      <td>NaN</td>\n",
       "      <td>NaN</td>\n",
       "      <td>NaN</td>\n",
       "      <td>NaN</td>\n",
       "      <td>NaN</td>\n",
       "      <td>...</td>\n",
       "      <td>NaN</td>\n",
       "      <td>NaN</td>\n",
       "      <td>NaN</td>\n",
       "      <td></td>\n",
       "      <td></td>\n",
       "      <td>166862854</td>\n",
       "      <td>NaN</td>\n",
       "      <td></td>\n",
       "      <td>23_GL0106182_1_1235_+</td>\n",
       "      <td>False</td>\n",
       "    </tr>\n",
       "    <tr>\n",
       "      <th>3</th>\n",
       "      <td>NaN</td>\n",
       "      <td>NaN</td>\n",
       "      <td>NaN</td>\n",
       "      <td>NaN</td>\n",
       "      <td>NaN</td>\n",
       "      <td>NaN</td>\n",
       "      <td>15.0</td>\n",
       "      <td>NaN</td>\n",
       "      <td>NaN</td>\n",
       "      <td>NaN</td>\n",
       "      <td>...</td>\n",
       "      <td>NaN</td>\n",
       "      <td>NaN</td>\n",
       "      <td>NaN</td>\n",
       "      <td></td>\n",
       "      <td></td>\n",
       "      <td>166248459</td>\n",
       "      <td>NaN</td>\n",
       "      <td></td>\n",
       "      <td>MC-6-5_GL0039211_1_684_+</td>\n",
       "      <td>False</td>\n",
       "    </tr>\n",
       "    <tr>\n",
       "      <th>4</th>\n",
       "      <td>NaN</td>\n",
       "      <td>NaN</td>\n",
       "      <td>NaN</td>\n",
       "      <td>NaN</td>\n",
       "      <td>NaN</td>\n",
       "      <td>NaN</td>\n",
       "      <td>3.0</td>\n",
       "      <td>NaN</td>\n",
       "      <td>NaN</td>\n",
       "      <td>NaN</td>\n",
       "      <td>...</td>\n",
       "      <td>NaN</td>\n",
       "      <td>NaN</td>\n",
       "      <td>NaN</td>\n",
       "      <td></td>\n",
       "      <td></td>\n",
       "      <td>166158349</td>\n",
       "      <td>NaN</td>\n",
       "      <td></td>\n",
       "      <td>7-1_GL0083136_1_516_+</td>\n",
       "      <td>False</td>\n",
       "    </tr>\n",
       "  </tbody>\n",
       "</table>\n",
       "<p>5 rows × 35 columns</p>\n",
       "</div>"
      ],
      "text/plain": [
       "   CL_Mix_1120_1  CL_Mix_1120_N_1  CL_Mix_Pool_1  CL_Mix_Pool_2  \\\n",
       "0            NaN              NaN            4.0            4.0   \n",
       "1           24.0              0.0           25.0           16.0   \n",
       "2            NaN              NaN            NaN            NaN   \n",
       "3            NaN              NaN            NaN            NaN   \n",
       "4            NaN              NaN            NaN            NaN   \n",
       "\n",
       "   CL_Mix_Pool_3  CL_Mix_Pool_4  CL_Mix_Pool_5  CL_Mix_Pool_N_1  \\\n",
       "0            3.0            4.0            5.0              0.0   \n",
       "1            8.0           27.0           11.0              0.0   \n",
       "2            NaN            NaN            NaN              NaN   \n",
       "3            NaN            NaN           15.0              NaN   \n",
       "4            NaN            NaN            3.0              NaN   \n",
       "\n",
       "   CL_Mix_Pool_N_2  CL_Mix_Pool_N_3  ...    UL_Mix_1121_N_4  UL_Mix_Pool_1  \\\n",
       "0              NaN              0.0  ...                NaN           20.0   \n",
       "1              0.0              0.0  ...                0.0           18.0   \n",
       "2              NaN              NaN  ...                NaN            NaN   \n",
       "3              NaN              NaN  ...                NaN            NaN   \n",
       "4              NaN              NaN  ...                NaN            NaN   \n",
       "\n",
       "   UL_Mix_Pool_N_1  gene  genus         id  lca  lca_organism  \\\n",
       "0              0.0                58957830  NaN                 \n",
       "1              0.0               167845895  NaN                 \n",
       "2              NaN               166862854  NaN                 \n",
       "3              NaN               166248459  NaN                 \n",
       "4              NaN               166158349  NaN                 \n",
       "\n",
       "                           name   spir  \n",
       "0  1B-dyr7-07_GL0001150_1_306_+  False  \n",
       "1         54_GL0084505_1_1202_+  False  \n",
       "2         23_GL0106182_1_1235_+  False  \n",
       "3      MC-6-5_GL0039211_1_684_+  False  \n",
       "4         7-1_GL0083136_1_516_+  False  \n",
       "\n",
       "[5 rows x 35 columns]"
      ]
     },
     "execution_count": 7,
     "metadata": {},
     "output_type": "execute_result"
    }
   ],
   "source": [
    "dat.head()"
   ]
  },
  {
   "cell_type": "code",
   "execution_count": 8,
   "metadata": {
    "collapsed": true
   },
   "outputs": [],
   "source": [
    "summary = dat[samp_names].replace(0, np.nan).count().to_frame()\n",
    "summary = summary.rename(columns={0: \"total_clust\"})\n",
    "summary['clust_with_raito'] =  dat[samp_names].count()"
   ]
  },
  {
   "cell_type": "code",
   "execution_count": 9,
   "metadata": {
    "collapsed": true
   },
   "outputs": [],
   "source": [
    "summary['total_counts'] = dat[samp_names].sum()\n",
    "summary['mouse_clust'] = dat.query('lca == 10090 or genus == \"Mus\"')[samp_names].replace(0, np.nan).count()\n",
    "summary['spir_clust'] = dat.query(\"genus == 'Arthrospira' or lca in [35823, 1150, 118562] or spir == True\")[samp_names].replace(0, np.nan).count()\n",
    "summary['mouse_counts'] = dat.query('lca == 10090 or genus == \"Mus\"')[samp_names].sum()\n",
    "summary['spir_counts'] = dat.query(\"genus == 'Arthrospira' or lca in [35823, 1150, 118562] or spir == True\")[samp_names].sum()\n",
    "\n",
    "summary['mouse_ratio_c'] = summary['mouse_counts'] / summary['total_counts']\n",
    "summary['spir_ratio_c'] = summary['spir_counts'] / summary['total_counts']\n",
    "summary['remain_c'] = 1 - summary['mouse_ratio_c'] - summary['spir_ratio_c']\n",
    "summary['spir_ratio_l'] = summary['spir_clust'] / summary['total_clust']\n",
    "summary['mouse_ratio_l'] = summary['mouse_clust'] / summary['total_clust']\n",
    "summary['remain_l'] = 1 - summary['mouse_ratio_l'] - summary['spir_ratio_l']"
   ]
  },
  {
   "cell_type": "code",
   "execution_count": 10,
   "metadata": {
    "collapsed": false,
    "scrolled": true
   },
   "outputs": [
    {
     "data": {
      "text/html": [
       "<div>\n",
       "<table border=\"1\" class=\"dataframe\">\n",
       "  <thead>\n",
       "    <tr style=\"text-align: right;\">\n",
       "      <th></th>\n",
       "      <th>total_clust</th>\n",
       "      <th>clust_with_raito</th>\n",
       "      <th>total_counts</th>\n",
       "      <th>mouse_clust</th>\n",
       "      <th>spir_clust</th>\n",
       "      <th>mouse_counts</th>\n",
       "      <th>spir_counts</th>\n",
       "      <th>mouse_ratio_c</th>\n",
       "      <th>spir_ratio_c</th>\n",
       "      <th>remain_c</th>\n",
       "      <th>spir_ratio_l</th>\n",
       "      <th>mouse_ratio_l</th>\n",
       "      <th>remain_l</th>\n",
       "    </tr>\n",
       "  </thead>\n",
       "  <tbody>\n",
       "    <tr>\n",
       "      <th>UL_Mix_1111_1</th>\n",
       "      <td>613</td>\n",
       "      <td>829</td>\n",
       "      <td>22588.0</td>\n",
       "      <td>105</td>\n",
       "      <td>37</td>\n",
       "      <td>10388.0</td>\n",
       "      <td>3589.0</td>\n",
       "      <td>0.459890</td>\n",
       "      <td>0.158890</td>\n",
       "      <td>0.381220</td>\n",
       "      <td>0.060359</td>\n",
       "      <td>0.171289</td>\n",
       "      <td>0.768352</td>\n",
       "    </tr>\n",
       "    <tr>\n",
       "      <th>UL_Mix_1111_2</th>\n",
       "      <td>883</td>\n",
       "      <td>1138</td>\n",
       "      <td>22409.0</td>\n",
       "      <td>129</td>\n",
       "      <td>40</td>\n",
       "      <td>9582.0</td>\n",
       "      <td>3864.0</td>\n",
       "      <td>0.427596</td>\n",
       "      <td>0.172431</td>\n",
       "      <td>0.399973</td>\n",
       "      <td>0.045300</td>\n",
       "      <td>0.146093</td>\n",
       "      <td>0.808607</td>\n",
       "    </tr>\n",
       "    <tr>\n",
       "      <th>UL_Mix_1111_3</th>\n",
       "      <td>754</td>\n",
       "      <td>1011</td>\n",
       "      <td>25784.0</td>\n",
       "      <td>100</td>\n",
       "      <td>33</td>\n",
       "      <td>10311.0</td>\n",
       "      <td>4628.0</td>\n",
       "      <td>0.399899</td>\n",
       "      <td>0.179491</td>\n",
       "      <td>0.420610</td>\n",
       "      <td>0.043767</td>\n",
       "      <td>0.132626</td>\n",
       "      <td>0.823607</td>\n",
       "    </tr>\n",
       "    <tr>\n",
       "      <th>UL_Mix_1121_1</th>\n",
       "      <td>1430</td>\n",
       "      <td>1613</td>\n",
       "      <td>28337.0</td>\n",
       "      <td>112</td>\n",
       "      <td>32</td>\n",
       "      <td>8915.0</td>\n",
       "      <td>2091.0</td>\n",
       "      <td>0.314606</td>\n",
       "      <td>0.073790</td>\n",
       "      <td>0.611603</td>\n",
       "      <td>0.022378</td>\n",
       "      <td>0.078322</td>\n",
       "      <td>0.899301</td>\n",
       "    </tr>\n",
       "    <tr>\n",
       "      <th>UL_Mix_1121_2</th>\n",
       "      <td>1216</td>\n",
       "      <td>1343</td>\n",
       "      <td>31966.0</td>\n",
       "      <td>119</td>\n",
       "      <td>30</td>\n",
       "      <td>10347.0</td>\n",
       "      <td>2474.0</td>\n",
       "      <td>0.323688</td>\n",
       "      <td>0.077395</td>\n",
       "      <td>0.598918</td>\n",
       "      <td>0.024671</td>\n",
       "      <td>0.097862</td>\n",
       "      <td>0.877467</td>\n",
       "    </tr>\n",
       "    <tr>\n",
       "      <th>UL_Mix_1121_3</th>\n",
       "      <td>867</td>\n",
       "      <td>995</td>\n",
       "      <td>27463.0</td>\n",
       "      <td>97</td>\n",
       "      <td>20</td>\n",
       "      <td>8830.0</td>\n",
       "      <td>1627.0</td>\n",
       "      <td>0.321524</td>\n",
       "      <td>0.059243</td>\n",
       "      <td>0.619233</td>\n",
       "      <td>0.023068</td>\n",
       "      <td>0.111880</td>\n",
       "      <td>0.865052</td>\n",
       "    </tr>\n",
       "    <tr>\n",
       "      <th>UL_Mix_1121_4</th>\n",
       "      <td>656</td>\n",
       "      <td>798</td>\n",
       "      <td>18099.0</td>\n",
       "      <td>87</td>\n",
       "      <td>19</td>\n",
       "      <td>7859.0</td>\n",
       "      <td>1786.0</td>\n",
       "      <td>0.434223</td>\n",
       "      <td>0.098679</td>\n",
       "      <td>0.467098</td>\n",
       "      <td>0.028963</td>\n",
       "      <td>0.132622</td>\n",
       "      <td>0.838415</td>\n",
       "    </tr>\n",
       "    <tr>\n",
       "      <th>UL_Mix_Pool_1</th>\n",
       "      <td>1779</td>\n",
       "      <td>1840</td>\n",
       "      <td>39569.0</td>\n",
       "      <td>92</td>\n",
       "      <td>20</td>\n",
       "      <td>8410.0</td>\n",
       "      <td>1533.0</td>\n",
       "      <td>0.212540</td>\n",
       "      <td>0.038742</td>\n",
       "      <td>0.748717</td>\n",
       "      <td>0.011242</td>\n",
       "      <td>0.051714</td>\n",
       "      <td>0.937043</td>\n",
       "    </tr>\n",
       "    <tr>\n",
       "      <th>UL_Mix_1111_N_1</th>\n",
       "      <td>480</td>\n",
       "      <td>749</td>\n",
       "      <td>13803.0</td>\n",
       "      <td>47</td>\n",
       "      <td>49</td>\n",
       "      <td>2450.0</td>\n",
       "      <td>6674.0</td>\n",
       "      <td>0.177498</td>\n",
       "      <td>0.483518</td>\n",
       "      <td>0.338984</td>\n",
       "      <td>0.102083</td>\n",
       "      <td>0.097917</td>\n",
       "      <td>0.800000</td>\n",
       "    </tr>\n",
       "    <tr>\n",
       "      <th>UL_Mix_1111_N_2</th>\n",
       "      <td>681</td>\n",
       "      <td>1035</td>\n",
       "      <td>15854.0</td>\n",
       "      <td>61</td>\n",
       "      <td>57</td>\n",
       "      <td>2136.0</td>\n",
       "      <td>7124.0</td>\n",
       "      <td>0.134729</td>\n",
       "      <td>0.449350</td>\n",
       "      <td>0.415920</td>\n",
       "      <td>0.083700</td>\n",
       "      <td>0.089574</td>\n",
       "      <td>0.826725</td>\n",
       "    </tr>\n",
       "    <tr>\n",
       "      <th>UL_Mix_1111_N_3</th>\n",
       "      <td>698</td>\n",
       "      <td>929</td>\n",
       "      <td>17300.0</td>\n",
       "      <td>49</td>\n",
       "      <td>46</td>\n",
       "      <td>2852.0</td>\n",
       "      <td>8439.0</td>\n",
       "      <td>0.164855</td>\n",
       "      <td>0.487803</td>\n",
       "      <td>0.347341</td>\n",
       "      <td>0.065903</td>\n",
       "      <td>0.070201</td>\n",
       "      <td>0.863897</td>\n",
       "    </tr>\n",
       "    <tr>\n",
       "      <th>UL_Mix_1121_N_1</th>\n",
       "      <td>1036</td>\n",
       "      <td>1266</td>\n",
       "      <td>20512.0</td>\n",
       "      <td>58</td>\n",
       "      <td>43</td>\n",
       "      <td>2543.0</td>\n",
       "      <td>6395.0</td>\n",
       "      <td>0.123976</td>\n",
       "      <td>0.311769</td>\n",
       "      <td>0.564255</td>\n",
       "      <td>0.041506</td>\n",
       "      <td>0.055985</td>\n",
       "      <td>0.902510</td>\n",
       "    </tr>\n",
       "    <tr>\n",
       "      <th>UL_Mix_1121_N_2</th>\n",
       "      <td>874</td>\n",
       "      <td>1248</td>\n",
       "      <td>22297.0</td>\n",
       "      <td>53</td>\n",
       "      <td>40</td>\n",
       "      <td>3548.0</td>\n",
       "      <td>6150.0</td>\n",
       "      <td>0.159125</td>\n",
       "      <td>0.275822</td>\n",
       "      <td>0.565054</td>\n",
       "      <td>0.045767</td>\n",
       "      <td>0.060641</td>\n",
       "      <td>0.893593</td>\n",
       "    </tr>\n",
       "    <tr>\n",
       "      <th>UL_Mix_1121_N_3</th>\n",
       "      <td>650</td>\n",
       "      <td>943</td>\n",
       "      <td>17424.0</td>\n",
       "      <td>46</td>\n",
       "      <td>21</td>\n",
       "      <td>3334.0</td>\n",
       "      <td>4802.0</td>\n",
       "      <td>0.191345</td>\n",
       "      <td>0.275597</td>\n",
       "      <td>0.533058</td>\n",
       "      <td>0.032308</td>\n",
       "      <td>0.070769</td>\n",
       "      <td>0.896923</td>\n",
       "    </tr>\n",
       "    <tr>\n",
       "      <th>UL_Mix_1121_N_4</th>\n",
       "      <td>548</td>\n",
       "      <td>753</td>\n",
       "      <td>14162.0</td>\n",
       "      <td>48</td>\n",
       "      <td>23</td>\n",
       "      <td>2800.0</td>\n",
       "      <td>4954.0</td>\n",
       "      <td>0.197712</td>\n",
       "      <td>0.349809</td>\n",
       "      <td>0.452478</td>\n",
       "      <td>0.041971</td>\n",
       "      <td>0.087591</td>\n",
       "      <td>0.870438</td>\n",
       "    </tr>\n",
       "    <tr>\n",
       "      <th>UL_Mix_Pool_N_1</th>\n",
       "      <td>674</td>\n",
       "      <td>1609</td>\n",
       "      <td>12730.0</td>\n",
       "      <td>54</td>\n",
       "      <td>37</td>\n",
       "      <td>2447.0</td>\n",
       "      <td>4688.0</td>\n",
       "      <td>0.192223</td>\n",
       "      <td>0.368264</td>\n",
       "      <td>0.439513</td>\n",
       "      <td>0.054896</td>\n",
       "      <td>0.080119</td>\n",
       "      <td>0.864985</td>\n",
       "    </tr>\n",
       "    <tr>\n",
       "      <th>CL_Mix_1120_1</th>\n",
       "      <td>1577</td>\n",
       "      <td>1612</td>\n",
       "      <td>30578.0</td>\n",
       "      <td>112</td>\n",
       "      <td>19</td>\n",
       "      <td>4686.0</td>\n",
       "      <td>1288.0</td>\n",
       "      <td>0.153247</td>\n",
       "      <td>0.042122</td>\n",
       "      <td>0.804631</td>\n",
       "      <td>0.012048</td>\n",
       "      <td>0.071021</td>\n",
       "      <td>0.916931</td>\n",
       "    </tr>\n",
       "    <tr>\n",
       "      <th>CL_Mix_Pool_1</th>\n",
       "      <td>1511</td>\n",
       "      <td>1536</td>\n",
       "      <td>39721.0</td>\n",
       "      <td>137</td>\n",
       "      <td>31</td>\n",
       "      <td>8970.0</td>\n",
       "      <td>2997.0</td>\n",
       "      <td>0.225825</td>\n",
       "      <td>0.075451</td>\n",
       "      <td>0.698724</td>\n",
       "      <td>0.020516</td>\n",
       "      <td>0.090668</td>\n",
       "      <td>0.888815</td>\n",
       "    </tr>\n",
       "    <tr>\n",
       "      <th>CL_Mix_Pool_2</th>\n",
       "      <td>698</td>\n",
       "      <td>780</td>\n",
       "      <td>16533.0</td>\n",
       "      <td>74</td>\n",
       "      <td>23</td>\n",
       "      <td>4965.0</td>\n",
       "      <td>1719.0</td>\n",
       "      <td>0.300308</td>\n",
       "      <td>0.103974</td>\n",
       "      <td>0.595718</td>\n",
       "      <td>0.032951</td>\n",
       "      <td>0.106017</td>\n",
       "      <td>0.861032</td>\n",
       "    </tr>\n",
       "    <tr>\n",
       "      <th>CL_Mix_Pool_3</th>\n",
       "      <td>1124</td>\n",
       "      <td>1147</td>\n",
       "      <td>21942.0</td>\n",
       "      <td>104</td>\n",
       "      <td>26</td>\n",
       "      <td>4597.0</td>\n",
       "      <td>1430.0</td>\n",
       "      <td>0.209507</td>\n",
       "      <td>0.065172</td>\n",
       "      <td>0.725321</td>\n",
       "      <td>0.023132</td>\n",
       "      <td>0.092527</td>\n",
       "      <td>0.884342</td>\n",
       "    </tr>\n",
       "    <tr>\n",
       "      <th>CL_Mix_Pool_4</th>\n",
       "      <td>807</td>\n",
       "      <td>829</td>\n",
       "      <td>22247.0</td>\n",
       "      <td>93</td>\n",
       "      <td>21</td>\n",
       "      <td>6055.0</td>\n",
       "      <td>1560.0</td>\n",
       "      <td>0.272172</td>\n",
       "      <td>0.070122</td>\n",
       "      <td>0.657707</td>\n",
       "      <td>0.026022</td>\n",
       "      <td>0.115242</td>\n",
       "      <td>0.858736</td>\n",
       "    </tr>\n",
       "    <tr>\n",
       "      <th>CL_Mix_Pool_5</th>\n",
       "      <td>1506</td>\n",
       "      <td>1534</td>\n",
       "      <td>23786.0</td>\n",
       "      <td>120</td>\n",
       "      <td>36</td>\n",
       "      <td>4635.0</td>\n",
       "      <td>1368.0</td>\n",
       "      <td>0.194863</td>\n",
       "      <td>0.057513</td>\n",
       "      <td>0.747625</td>\n",
       "      <td>0.023904</td>\n",
       "      <td>0.079681</td>\n",
       "      <td>0.896414</td>\n",
       "    </tr>\n",
       "    <tr>\n",
       "      <th>CL_Mix_1120_N_1</th>\n",
       "      <td>370</td>\n",
       "      <td>1177</td>\n",
       "      <td>4410.0</td>\n",
       "      <td>19</td>\n",
       "      <td>19</td>\n",
       "      <td>750.0</td>\n",
       "      <td>1339.0</td>\n",
       "      <td>0.170068</td>\n",
       "      <td>0.303628</td>\n",
       "      <td>0.526304</td>\n",
       "      <td>0.051351</td>\n",
       "      <td>0.051351</td>\n",
       "      <td>0.897297</td>\n",
       "    </tr>\n",
       "    <tr>\n",
       "      <th>CL_Mix_Pool_N_1</th>\n",
       "      <td>342</td>\n",
       "      <td>1299</td>\n",
       "      <td>7024.0</td>\n",
       "      <td>32</td>\n",
       "      <td>33</td>\n",
       "      <td>1101.0</td>\n",
       "      <td>3501.0</td>\n",
       "      <td>0.156748</td>\n",
       "      <td>0.498434</td>\n",
       "      <td>0.344818</td>\n",
       "      <td>0.096491</td>\n",
       "      <td>0.093567</td>\n",
       "      <td>0.809942</td>\n",
       "    </tr>\n",
       "    <tr>\n",
       "      <th>CL_Mix_Pool_N_2</th>\n",
       "      <td>383</td>\n",
       "      <td>706</td>\n",
       "      <td>6525.0</td>\n",
       "      <td>36</td>\n",
       "      <td>29</td>\n",
       "      <td>1181.0</td>\n",
       "      <td>2995.0</td>\n",
       "      <td>0.180996</td>\n",
       "      <td>0.459004</td>\n",
       "      <td>0.360000</td>\n",
       "      <td>0.075718</td>\n",
       "      <td>0.093995</td>\n",
       "      <td>0.830287</td>\n",
       "    </tr>\n",
       "    <tr>\n",
       "      <th>CL_Mix_Pool_N_3</th>\n",
       "      <td>421</td>\n",
       "      <td>972</td>\n",
       "      <td>4977.0</td>\n",
       "      <td>26</td>\n",
       "      <td>23</td>\n",
       "      <td>741.0</td>\n",
       "      <td>1705.0</td>\n",
       "      <td>0.148885</td>\n",
       "      <td>0.342576</td>\n",
       "      <td>0.508539</td>\n",
       "      <td>0.054632</td>\n",
       "      <td>0.061758</td>\n",
       "      <td>0.883610</td>\n",
       "    </tr>\n",
       "    <tr>\n",
       "      <th>CL_Mix_Pool_N_4</th>\n",
       "      <td>186</td>\n",
       "      <td>672</td>\n",
       "      <td>3121.0</td>\n",
       "      <td>26</td>\n",
       "      <td>23</td>\n",
       "      <td>689.0</td>\n",
       "      <td>1254.0</td>\n",
       "      <td>0.220763</td>\n",
       "      <td>0.401794</td>\n",
       "      <td>0.377443</td>\n",
       "      <td>0.123656</td>\n",
       "      <td>0.139785</td>\n",
       "      <td>0.736559</td>\n",
       "    </tr>\n",
       "    <tr>\n",
       "      <th>CL_Mix_Pool_N_5</th>\n",
       "      <td>304</td>\n",
       "      <td>1082</td>\n",
       "      <td>2600.0</td>\n",
       "      <td>26</td>\n",
       "      <td>29</td>\n",
       "      <td>415.0</td>\n",
       "      <td>843.0</td>\n",
       "      <td>0.159615</td>\n",
       "      <td>0.324231</td>\n",
       "      <td>0.516154</td>\n",
       "      <td>0.095395</td>\n",
       "      <td>0.085526</td>\n",
       "      <td>0.819079</td>\n",
       "    </tr>\n",
       "  </tbody>\n",
       "</table>\n",
       "</div>"
      ],
      "text/plain": [
       "                 total_clust  clust_with_raito  total_counts  mouse_clust  \\\n",
       "UL_Mix_1111_1            613               829       22588.0          105   \n",
       "UL_Mix_1111_2            883              1138       22409.0          129   \n",
       "UL_Mix_1111_3            754              1011       25784.0          100   \n",
       "UL_Mix_1121_1           1430              1613       28337.0          112   \n",
       "UL_Mix_1121_2           1216              1343       31966.0          119   \n",
       "UL_Mix_1121_3            867               995       27463.0           97   \n",
       "UL_Mix_1121_4            656               798       18099.0           87   \n",
       "UL_Mix_Pool_1           1779              1840       39569.0           92   \n",
       "UL_Mix_1111_N_1          480               749       13803.0           47   \n",
       "UL_Mix_1111_N_2          681              1035       15854.0           61   \n",
       "UL_Mix_1111_N_3          698               929       17300.0           49   \n",
       "UL_Mix_1121_N_1         1036              1266       20512.0           58   \n",
       "UL_Mix_1121_N_2          874              1248       22297.0           53   \n",
       "UL_Mix_1121_N_3          650               943       17424.0           46   \n",
       "UL_Mix_1121_N_4          548               753       14162.0           48   \n",
       "UL_Mix_Pool_N_1          674              1609       12730.0           54   \n",
       "CL_Mix_1120_1           1577              1612       30578.0          112   \n",
       "CL_Mix_Pool_1           1511              1536       39721.0          137   \n",
       "CL_Mix_Pool_2            698               780       16533.0           74   \n",
       "CL_Mix_Pool_3           1124              1147       21942.0          104   \n",
       "CL_Mix_Pool_4            807               829       22247.0           93   \n",
       "CL_Mix_Pool_5           1506              1534       23786.0          120   \n",
       "CL_Mix_1120_N_1          370              1177        4410.0           19   \n",
       "CL_Mix_Pool_N_1          342              1299        7024.0           32   \n",
       "CL_Mix_Pool_N_2          383               706        6525.0           36   \n",
       "CL_Mix_Pool_N_3          421               972        4977.0           26   \n",
       "CL_Mix_Pool_N_4          186               672        3121.0           26   \n",
       "CL_Mix_Pool_N_5          304              1082        2600.0           26   \n",
       "\n",
       "                 spir_clust  mouse_counts  spir_counts  mouse_ratio_c  \\\n",
       "UL_Mix_1111_1            37       10388.0       3589.0       0.459890   \n",
       "UL_Mix_1111_2            40        9582.0       3864.0       0.427596   \n",
       "UL_Mix_1111_3            33       10311.0       4628.0       0.399899   \n",
       "UL_Mix_1121_1            32        8915.0       2091.0       0.314606   \n",
       "UL_Mix_1121_2            30       10347.0       2474.0       0.323688   \n",
       "UL_Mix_1121_3            20        8830.0       1627.0       0.321524   \n",
       "UL_Mix_1121_4            19        7859.0       1786.0       0.434223   \n",
       "UL_Mix_Pool_1            20        8410.0       1533.0       0.212540   \n",
       "UL_Mix_1111_N_1          49        2450.0       6674.0       0.177498   \n",
       "UL_Mix_1111_N_2          57        2136.0       7124.0       0.134729   \n",
       "UL_Mix_1111_N_3          46        2852.0       8439.0       0.164855   \n",
       "UL_Mix_1121_N_1          43        2543.0       6395.0       0.123976   \n",
       "UL_Mix_1121_N_2          40        3548.0       6150.0       0.159125   \n",
       "UL_Mix_1121_N_3          21        3334.0       4802.0       0.191345   \n",
       "UL_Mix_1121_N_4          23        2800.0       4954.0       0.197712   \n",
       "UL_Mix_Pool_N_1          37        2447.0       4688.0       0.192223   \n",
       "CL_Mix_1120_1            19        4686.0       1288.0       0.153247   \n",
       "CL_Mix_Pool_1            31        8970.0       2997.0       0.225825   \n",
       "CL_Mix_Pool_2            23        4965.0       1719.0       0.300308   \n",
       "CL_Mix_Pool_3            26        4597.0       1430.0       0.209507   \n",
       "CL_Mix_Pool_4            21        6055.0       1560.0       0.272172   \n",
       "CL_Mix_Pool_5            36        4635.0       1368.0       0.194863   \n",
       "CL_Mix_1120_N_1          19         750.0       1339.0       0.170068   \n",
       "CL_Mix_Pool_N_1          33        1101.0       3501.0       0.156748   \n",
       "CL_Mix_Pool_N_2          29        1181.0       2995.0       0.180996   \n",
       "CL_Mix_Pool_N_3          23         741.0       1705.0       0.148885   \n",
       "CL_Mix_Pool_N_4          23         689.0       1254.0       0.220763   \n",
       "CL_Mix_Pool_N_5          29         415.0        843.0       0.159615   \n",
       "\n",
       "                 spir_ratio_c  remain_c  spir_ratio_l  mouse_ratio_l  remain_l  \n",
       "UL_Mix_1111_1        0.158890  0.381220      0.060359       0.171289  0.768352  \n",
       "UL_Mix_1111_2        0.172431  0.399973      0.045300       0.146093  0.808607  \n",
       "UL_Mix_1111_3        0.179491  0.420610      0.043767       0.132626  0.823607  \n",
       "UL_Mix_1121_1        0.073790  0.611603      0.022378       0.078322  0.899301  \n",
       "UL_Mix_1121_2        0.077395  0.598918      0.024671       0.097862  0.877467  \n",
       "UL_Mix_1121_3        0.059243  0.619233      0.023068       0.111880  0.865052  \n",
       "UL_Mix_1121_4        0.098679  0.467098      0.028963       0.132622  0.838415  \n",
       "UL_Mix_Pool_1        0.038742  0.748717      0.011242       0.051714  0.937043  \n",
       "UL_Mix_1111_N_1      0.483518  0.338984      0.102083       0.097917  0.800000  \n",
       "UL_Mix_1111_N_2      0.449350  0.415920      0.083700       0.089574  0.826725  \n",
       "UL_Mix_1111_N_3      0.487803  0.347341      0.065903       0.070201  0.863897  \n",
       "UL_Mix_1121_N_1      0.311769  0.564255      0.041506       0.055985  0.902510  \n",
       "UL_Mix_1121_N_2      0.275822  0.565054      0.045767       0.060641  0.893593  \n",
       "UL_Mix_1121_N_3      0.275597  0.533058      0.032308       0.070769  0.896923  \n",
       "UL_Mix_1121_N_4      0.349809  0.452478      0.041971       0.087591  0.870438  \n",
       "UL_Mix_Pool_N_1      0.368264  0.439513      0.054896       0.080119  0.864985  \n",
       "CL_Mix_1120_1        0.042122  0.804631      0.012048       0.071021  0.916931  \n",
       "CL_Mix_Pool_1        0.075451  0.698724      0.020516       0.090668  0.888815  \n",
       "CL_Mix_Pool_2        0.103974  0.595718      0.032951       0.106017  0.861032  \n",
       "CL_Mix_Pool_3        0.065172  0.725321      0.023132       0.092527  0.884342  \n",
       "CL_Mix_Pool_4        0.070122  0.657707      0.026022       0.115242  0.858736  \n",
       "CL_Mix_Pool_5        0.057513  0.747625      0.023904       0.079681  0.896414  \n",
       "CL_Mix_1120_N_1      0.303628  0.526304      0.051351       0.051351  0.897297  \n",
       "CL_Mix_Pool_N_1      0.498434  0.344818      0.096491       0.093567  0.809942  \n",
       "CL_Mix_Pool_N_2      0.459004  0.360000      0.075718       0.093995  0.830287  \n",
       "CL_Mix_Pool_N_3      0.342576  0.508539      0.054632       0.061758  0.883610  \n",
       "CL_Mix_Pool_N_4      0.401794  0.377443      0.123656       0.139785  0.736559  \n",
       "CL_Mix_Pool_N_5      0.324231  0.516154      0.095395       0.085526  0.819079  "
      ]
     },
     "execution_count": 10,
     "metadata": {},
     "output_type": "execute_result"
    }
   ],
   "source": [
    "summary"
   ]
  },
  {
   "cell_type": "code",
   "execution_count": 11,
   "metadata": {
    "collapsed": true
   },
   "outputs": [],
   "source": [
    "tech_rep = dict()\n",
    "for i, s in enumerate(n14_un_samps):\n",
    "    tech_rep.update({s:\"{}\".format(i+1)})\n",
    "for i, s in enumerate(n15_un_samps):\n",
    "    tech_rep.update({s:\"{}\".format(i+1)})\n",
    "for i, s in enumerate(n14_enr_samps):\n",
    "    tech_rep.update({s:\"{}\".format(i+1)})\n",
    "for i, s in enumerate(n15_enr_samps):\n",
    "    tech_rep.update({s:\"{}\".format(i+1)})"
   ]
  },
  {
   "cell_type": "code",
   "execution_count": 12,
   "metadata": {
    "collapsed": true
   },
   "outputs": [],
   "source": [
    "def plot_stacked_bar(smps, title, df):\n",
    "\n",
    "    sns.set_style('white')\n",
    "    df = df.loc[smps]\n",
    "    X = np.arange(len(df))\n",
    "    \n",
    "    p1 = plt.bar(X, df['mouse_ratio_c'])\n",
    "    p2 = plt.bar(X, df['spir_ratio_c'], bottom = df['mouse_ratio_c'], color = sns.color_palette()[1])\n",
    "    p3 = plt.bar(X, df['remain_c'], bottom = df['mouse_ratio_c']+df['spir_ratio_c'], color = sns.color_palette()[2])\n",
    "    plt.xticks(X + .8/2., [tech_rep[s] for s in smps])\n",
    "    plt.ylabel('Fraction of Spectral Counts')\n",
    "    plt.xlabel('Technical Replicate')\n",
    "    plt.legend([p3[0], p2[0], p1[0]],['Microbiome', 'Spirulina', 'Mouse'], frameon=True)\n",
    "    plt.title(title)\n"
   ]
  },
  {
   "cell_type": "markdown",
   "metadata": {},
   "source": [
    "## Spec count sources over technical replicates"
   ]
  },
  {
   "cell_type": "code",
   "execution_count": 13,
   "metadata": {
    "collapsed": false
   },
   "outputs": [
    {
     "data": {
      "image/png": "[encoded data removed]",
      "text/plain": [
       "<matplotlib.figure.Figure at 0x12fff9f28>"
      ]
     },
     "metadata": {},
     "output_type": "display_data"
    }
   ],
   "source": [
    "import warnings\n",
    "warnings.filterwarnings('ignore')\n",
    "\n",
    "plot_stacked_bar(n14_un_samps, \"Spec count source in unenriched N14 samples\", summary)"
   ]
  },
  {
   "cell_type": "code",
   "execution_count": 14,
   "metadata": {
    "collapsed": false
   },
   "outputs": [
    {
     "data": {
      "image/png": "[encoded data removed]",
      "text/plain": [
       "<matplotlib.figure.Figure at 0x12f8b2898>"
      ]
     },
     "metadata": {},
     "output_type": "display_data"
    }
   ],
   "source": [
    "plot_stacked_bar(n14_enr_samps, \"Spec count source in enriched N14 samples\", summary)"
   ]
  },
  {
   "cell_type": "code",
   "execution_count": 15,
   "metadata": {
    "collapsed": false
   },
   "outputs": [
    {
     "data": {
      "image/png": "[encoded data removed]",
      "text/plain": [
       "<matplotlib.figure.Figure at 0x110d72278>"
      ]
     },
     "metadata": {},
     "output_type": "display_data"
    }
   ],
   "source": [
    "plot_stacked_bar(n15_un_samps, \"Spec count source in unenriched N15 samples\", summary)"
   ]
  },
  {
   "cell_type": "code",
   "execution_count": 16,
   "metadata": {
    "collapsed": false
   },
   "outputs": [
    {
     "data": {
      "image/png": "[encoded data removed]",
      "text/plain": [
       "<matplotlib.figure.Figure at 0x12f1bbd68>"
      ]
     },
     "metadata": {},
     "output_type": "display_data"
    }
   ],
   "source": [
    "plot_stacked_bar(n15_enr_samps, \"Spec count source in Enriched N15 samples\", summary)"
   ]
  },
  {
   "cell_type": "code",
   "execution_count": 17,
   "metadata": {
    "collapsed": true
   },
   "outputs": [],
   "source": [
    "def plot_locus_bar(smps, title, df):\n",
    "\n",
    "    sns.set_style('white')\n",
    "    df = df.loc[smps]\n",
    "    X = np.arange(len(df))\n",
    "    \n",
    "    p1 = plt.bar(X, df['mouse_ratio_l'])\n",
    "    p2 = plt.bar(X, df['spir_ratio_l'], bottom = df['mouse_ratio_l'], color = sns.color_palette()[1])\n",
    "    p3 = plt.bar(X, df['remain_l'], bottom = df['mouse_ratio_l']+df['spir_ratio_l'], color = sns.color_palette()[2])\n",
    "    plt.xticks(X + .8/2., [tech_rep[s] for s in smps])\n",
    "    plt.ylabel('Fraction of Identified Loci')\n",
    "    plt.xlabel('Technical Replicate')\n",
    "    plt.legend([p3[0], p2[0], p1[0]],['Microbiome', 'Spirulina', 'Mouse'], frameon=True)\n",
    "    plt.title(title)"
   ]
  },
  {
   "cell_type": "markdown",
   "metadata": {},
   "source": [
    "## Loci Sources across technical replicates"
   ]
  },
  {
   "cell_type": "code",
   "execution_count": 18,
   "metadata": {
    "collapsed": false
   },
   "outputs": [
    {
     "data": {
      "image/png": "[encoded data removed]",
      "text/plain": [
       "<matplotlib.figure.Figure at 0x12efc6f28>"
      ]
     },
     "metadata": {},
     "output_type": "display_data"
    }
   ],
   "source": [
    "plot_locus_bar(n14_un_samps, 'Loci Fraction in unenriched N14 samples', summary)"
   ]
  },
  {
   "cell_type": "code",
   "execution_count": 19,
   "metadata": {
    "collapsed": false
   },
   "outputs": [
    {
     "data": {
      "image/png": "[encoded data removed]",
      "text/plain": [
       "<matplotlib.figure.Figure at 0x12fe5eba8>"
      ]
     },
     "metadata": {},
     "output_type": "display_data"
    }
   ],
   "source": [
    "plot_locus_bar(n14_enr_samps, 'Loci Fraction in enriched N14 samples', summary)"
   ]
  },
  {
   "cell_type": "code",
   "execution_count": 20,
   "metadata": {
    "collapsed": false
   },
   "outputs": [
    {
     "data": {
      "image/png": "[encoded data removed]",
      "text/plain": [
       "<matplotlib.figure.Figure at 0x12e089cf8>"
      ]
     },
     "metadata": {},
     "output_type": "display_data"
    }
   ],
   "source": [
    "plot_locus_bar(n15_un_samps, 'Loci Fraction in unenriched N15 samples', summary)"
   ]
  },
  {
   "cell_type": "code",
   "execution_count": 21,
   "metadata": {
    "collapsed": false
   },
   "outputs": [
    {
     "data": {
      "image/png": "[encoded data removed]",
      "text/plain": [
       "<matplotlib.figure.Figure at 0x12d3cb3c8>"
      ]
     },
     "metadata": {},
     "output_type": "display_data"
    }
   ],
   "source": [
    "plot_locus_bar(n14_enr_samps, 'Loci Fraction in enriched N15 samples', summary)"
   ]
  },
  {
   "cell_type": "code",
   "execution_count": 22,
   "metadata": {
    "collapsed": false
   },
   "outputs": [],
   "source": [
    "n14_un_avg = summary.loc[n14_un_samps].mean().to_frame().rename(columns={0:'n14_un_avg'})\n",
    "n15_un_avg = summary.loc[n15_un_samps].mean().to_frame().rename(columns={0:'n15_un_avg'})\n",
    "n14_enr_avg = summary.loc[n14_enr_samps].mean().to_frame().rename(columns={0:'n14_enr_avg'})\n",
    "n15_enr_avg = summary.loc[n15_enr_samps].mean().to_frame().rename(columns={0:'n15_enr_avg'})"
   ]
  },
  {
   "cell_type": "code",
   "execution_count": 23,
   "metadata": {
    "collapsed": false
   },
   "outputs": [],
   "source": [
    "avg_counts = pd.concat([n14_un_avg, n14_enr_avg, n15_un_avg, n15_enr_avg], axis = 1).T"
   ]
  },
  {
   "cell_type": "code",
   "execution_count": 24,
   "metadata": {
    "collapsed": false
   },
   "outputs": [
    {
     "data": {
      "text/html": [
       "<div>\n",
       "<table border=\"1\" class=\"dataframe\">\n",
       "  <thead>\n",
       "    <tr style=\"text-align: right;\">\n",
       "      <th></th>\n",
       "      <th>total_clust</th>\n",
       "      <th>clust_with_raito</th>\n",
       "      <th>total_counts</th>\n",
       "      <th>mouse_clust</th>\n",
       "      <th>spir_clust</th>\n",
       "      <th>mouse_counts</th>\n",
       "      <th>spir_counts</th>\n",
       "      <th>mouse_ratio_c</th>\n",
       "      <th>spir_ratio_c</th>\n",
       "      <th>remain_c</th>\n",
       "      <th>spir_ratio_l</th>\n",
       "      <th>mouse_ratio_l</th>\n",
       "      <th>remain_l</th>\n",
       "    </tr>\n",
       "  </thead>\n",
       "  <tbody>\n",
       "    <tr>\n",
       "      <th>n14_un_avg</th>\n",
       "      <td>1024.750000</td>\n",
       "      <td>1195.875000</td>\n",
       "      <td>27026.875000</td>\n",
       "      <td>105.125000</td>\n",
       "      <td>28.875</td>\n",
       "      <td>9330.250000</td>\n",
       "      <td>2699.00</td>\n",
       "      <td>0.361746</td>\n",
       "      <td>0.107333</td>\n",
       "      <td>0.530922</td>\n",
       "      <td>0.032468</td>\n",
       "      <td>0.115301</td>\n",
       "      <td>0.852231</td>\n",
       "    </tr>\n",
       "    <tr>\n",
       "      <th>n14_enr_avg</th>\n",
       "      <td>1203.833333</td>\n",
       "      <td>1239.666667</td>\n",
       "      <td>25801.166667</td>\n",
       "      <td>106.666667</td>\n",
       "      <td>26.000</td>\n",
       "      <td>5651.333333</td>\n",
       "      <td>1727.00</td>\n",
       "      <td>0.225987</td>\n",
       "      <td>0.069059</td>\n",
       "      <td>0.704954</td>\n",
       "      <td>0.023096</td>\n",
       "      <td>0.092526</td>\n",
       "      <td>0.884378</td>\n",
       "    </tr>\n",
       "    <tr>\n",
       "      <th>n15_un_avg</th>\n",
       "      <td>705.125000</td>\n",
       "      <td>1066.500000</td>\n",
       "      <td>16760.250000</td>\n",
       "      <td>52.000000</td>\n",
       "      <td>39.500</td>\n",
       "      <td>2763.750000</td>\n",
       "      <td>6153.25</td>\n",
       "      <td>0.167683</td>\n",
       "      <td>0.375242</td>\n",
       "      <td>0.457075</td>\n",
       "      <td>0.058517</td>\n",
       "      <td>0.076599</td>\n",
       "      <td>0.864884</td>\n",
       "    </tr>\n",
       "    <tr>\n",
       "      <th>n15_enr_avg</th>\n",
       "      <td>334.333333</td>\n",
       "      <td>984.666667</td>\n",
       "      <td>4776.166667</td>\n",
       "      <td>27.500000</td>\n",
       "      <td>26.000</td>\n",
       "      <td>812.833333</td>\n",
       "      <td>1939.50</td>\n",
       "      <td>0.172846</td>\n",
       "      <td>0.388278</td>\n",
       "      <td>0.438876</td>\n",
       "      <td>0.082874</td>\n",
       "      <td>0.087664</td>\n",
       "      <td>0.829462</td>\n",
       "    </tr>\n",
       "  </tbody>\n",
       "</table>\n",
       "</div>"
      ],
      "text/plain": [
       "             total_clust  clust_with_raito  total_counts  mouse_clust  \\\n",
       "n14_un_avg   1024.750000       1195.875000  27026.875000   105.125000   \n",
       "n14_enr_avg  1203.833333       1239.666667  25801.166667   106.666667   \n",
       "n15_un_avg    705.125000       1066.500000  16760.250000    52.000000   \n",
       "n15_enr_avg   334.333333        984.666667   4776.166667    27.500000   \n",
       "\n",
       "             spir_clust  mouse_counts  spir_counts  mouse_ratio_c  \\\n",
       "n14_un_avg       28.875   9330.250000      2699.00       0.361746   \n",
       "n14_enr_avg      26.000   5651.333333      1727.00       0.225987   \n",
       "n15_un_avg       39.500   2763.750000      6153.25       0.167683   \n",
       "n15_enr_avg      26.000    812.833333      1939.50       0.172846   \n",
       "\n",
       "             spir_ratio_c  remain_c  spir_ratio_l  mouse_ratio_l  remain_l  \n",
       "n14_un_avg       0.107333  0.530922      0.032468       0.115301  0.852231  \n",
       "n14_enr_avg      0.069059  0.704954      0.023096       0.092526  0.884378  \n",
       "n15_un_avg       0.375242  0.457075      0.058517       0.076599  0.864884  \n",
       "n15_enr_avg      0.388278  0.438876      0.082874       0.087664  0.829462  "
      ]
     },
     "execution_count": 24,
     "metadata": {},
     "output_type": "execute_result"
    }
   ],
   "source": [
    "avg_counts"
   ]
  },
  {
   "cell_type": "code",
   "execution_count": 25,
   "metadata": {
    "collapsed": true
   },
   "outputs": [],
   "source": [
    "tech_rep = {'n14_un_avg': \"N14 Unenriched\", \"n15_un_avg\": \"N15 Unenrichd\", \"n14_enr_avg\": \"N14 Enriched\", 'n15_enr_avg': \"N15 Enriched\"}"
   ]
  },
  {
   "cell_type": "code",
   "execution_count": 26,
   "metadata": {
    "collapsed": false
   },
   "outputs": [],
   "source": [
    "type_keys = sorted(list(tech_rep.keys()), key = lambda x: (x.split(\"_\")[0], len(x.split('_')[1])) )"
   ]
  },
  {
   "cell_type": "markdown",
   "metadata": {},
   "source": [
    "## Sources of Loci/Spec counts averaged across techincal reps"
   ]
  },
  {
   "cell_type": "code",
   "execution_count": 27,
   "metadata": {
    "collapsed": false,
    "scrolled": true
   },
   "outputs": [
    {
     "data": {
      "image/png": "[encoded data removed]",
      "text/plain": [
       "<matplotlib.figure.Figure at 0x12b6e7198>"
      ]
     },
     "metadata": {},
     "output_type": "display_data"
    }
   ],
   "source": [
    "plot_locus_bar(type_keys, 'Loci Fraction averaged across techincal reps', avg_counts)\n",
    "plt.xlabel(\"Sample Type\");"
   ]
  },
  {
   "cell_type": "code",
   "execution_count": 28,
   "metadata": {
    "collapsed": false
   },
   "outputs": [
    {
     "data": {
      "image/png": "[encoded data removed]",
      "text/plain": [
       "<matplotlib.figure.Figure at 0x12a1d9908>"
      ]
     },
     "metadata": {},
     "output_type": "display_data"
    }
   ],
   "source": [
    "plot_stacked_bar(type_keys, 'Spec count fraction averaged across techincal reps', avg_counts)\n",
    "plt.xlabel(\"Sample Type\");"
   ]
  },
  {
   "cell_type": "code",
   "execution_count": 29,
   "metadata": {
    "collapsed": true
   },
   "outputs": [],
   "source": [
    "uner_sig = build_loci.get_sig_df(unenr_grouped_loci)"
   ]
  },
  {
   "cell_type": "code",
   "execution_count": 30,
   "metadata": {
    "collapsed": true
   },
   "outputs": [],
   "source": [
    "enr_sig = build_loci.get_sig_df(enr_grouped_loci)"
   ]
  },
  {
   "cell_type": "code",
   "execution_count": 31,
   "metadata": {
    "collapsed": false
   },
   "outputs": [],
   "source": [
    "dat = dict()\n",
    "for locus in grouped_loci:\n",
    "    if locus.p_value < .05 and abs(locus.avg_ratio) > 4:\n",
    "        dat[i] = {'p_value': locus.p_value, 'avg_ratio': locus.avg_ratio, 'name': locus.name, 'id':locus.cluster_id,\n",
    "                  'lca': locus.lca, 'lca_organism': locus.lca_organism, 'gene': build_loci.get_gene_name(locus.name),\n",
    "                  'genus': build_loci.get_genus(locus.name), 'spir': any(['Arthrospira' in inf['d'] for inf in locus.prot_info]),\n",
    "                  'logfc': np.log2(locus.avg_ratio)}"
   ]
  },
  {
   "cell_type": "code",
   "execution_count": 32,
   "metadata": {
    "collapsed": false
   },
   "outputs": [],
   "source": [
    "uner_sig_up_ids = uner_sig.query('passes and logfc > 0')['id'].tolist()\n",
    "uner_sig_down_ids = uner_sig.query('passes and logfc < 0')['id'].tolist()\n",
    "\n",
    "enr_sig_up_ids = enr_sig.query('passes and logfc > 0')['id'].tolist()\n",
    "enr_sig_down_ids = enr_sig.query('passes and logfc < 0')['id'].tolist()"
   ]
  },
  {
   "cell_type": "code",
   "execution_count": 33,
   "metadata": {
    "collapsed": false
   },
   "outputs": [],
   "source": [
    "def count_only_dict1(grouped_loci, samps, sig_list):\n",
    "    prots = []\n",
    "    for prot in grouped_loci:\n",
    "        if prot.cluster_id in sig_list:\n",
    "            protd = {'id': prot.cluster_id,\n",
    "                    'name': prot.name,\n",
    "                    'lca': prot.lca,\n",
    "                    'lca_organism': prot.lca_organism,\n",
    "                    'gene': build_loci.get_gene_name(prot.name),\n",
    "                    'genus': build_loci.get_genus(prot.name),\n",
    "                    'spir': any(['Arthrospira' in inf['d'] for inf in prot.prot_info])}\n",
    "            protd.update(get_count_prots(prot.quantification, samps))\n",
    "            prots.append(protd)\n",
    "    return prots"
   ]
  },
  {
   "cell_type": "code",
   "execution_count": 34,
   "metadata": {
    "collapsed": true
   },
   "outputs": [],
   "source": [
    "def dat_to_summary(dat, samp_names):\n",
    "    summary = dat[samp_names].replace(0, np.nan).count().to_frame()\n",
    "    summary = summary.rename(columns={0: \"total_clust\"})\n",
    "    summary['clust_with_raito'] =  dat[samp_names].count()\n",
    "    \n",
    "    summary['total_counts'] = dat[samp_names].sum()\n",
    "    summary['mouse_clust'] = dat.query('lca == 10090 or genus == \"Mus\"')[samp_names].replace(0, np.nan).count()\n",
    "    summary['spir_clust'] = dat.query(\"genus == 'Arthrospira' or lca in [35823, 1150, 118562] or spir == True\")[samp_names].replace(0, np.nan).count()\n",
    "    summary['mouse_counts'] = dat.query('lca == 10090 or genus == \"Mus\"')[samp_names].sum()\n",
    "    summary['spir_counts'] = dat.query(\"genus == 'Arthrospira' or lca in [35823, 1150, 118562] or spir == True\")[samp_names].sum()\n",
    "\n",
    "    summary['mouse_ratio_c'] = summary['mouse_counts'] / summary['total_counts']\n",
    "    summary['spir_ratio_c'] = summary['spir_counts'] / summary['total_counts']\n",
    "    summary['remain_c'] = 1 - summary['mouse_ratio_c'] - summary['spir_ratio_c']\n",
    "    summary['spir_ratio_l'] = summary['spir_clust'] / summary['total_clust']\n",
    "    summary['mouse_ratio_l'] = summary['mouse_clust'] / summary['total_clust']\n",
    "    summary['remain_l'] = 1 - summary['mouse_ratio_l'] - summary['spir_ratio_l']\n",
    "    \n",
    "    return summary"
   ]
  },
  {
   "cell_type": "code",
   "execution_count": 35,
   "metadata": {
    "collapsed": false
   },
   "outputs": [],
   "source": [
    "unenr_keys = n14_un_samps+n15_un_samps\n",
    "enr_keys = n14_enr_samps+n15_enr_samps\n",
    "\n",
    "dat1 = pd.DataFrame(count_only_dict1(grouped_loci, unenr_keys, uner_sig_up_ids))\n",
    "sum1 = dat_to_summary(dat1, unenr_keys)\n",
    "unenr_up = sum1.loc[unenr_keys].mean().to_frame().rename(columns={0:'unenr_up'})\n",
    "\n",
    "dat1 = pd.DataFrame(count_only_dict1(grouped_loci, unenr_keys, uner_sig_down_ids))\n",
    "sum1 = dat_to_summary(dat1, unenr_keys)\n",
    "unenr_down = sum1.loc[unenr_keys].mean().to_frame().rename(columns={0:'unenr_down'})\n",
    "\n",
    "dat1 = pd.DataFrame(count_only_dict1(grouped_loci, enr_keys, enr_sig_up_ids))\n",
    "sum1 = dat_to_summary(dat1, enr_keys)\n",
    "enr_up = sum1.loc[enr_keys].mean().to_frame().rename(columns={0:'enr_up'})\n",
    "\n",
    "dat1 = pd.DataFrame(count_only_dict1(grouped_loci, enr_keys, enr_sig_down_ids))\n",
    "sum1 = dat_to_summary(dat1, enr_keys)\n",
    "enr_down = sum1.loc[enr_keys].mean().to_frame().rename(columns={0:'enr_down'})"
   ]
  },
  {
   "cell_type": "code",
   "execution_count": 36,
   "metadata": {
    "collapsed": false
   },
   "outputs": [],
   "source": [
    "enr_df = pd.concat([unenr_up, unenr_down, enr_up, enr_down], axis = 1).T"
   ]
  },
  {
   "cell_type": "code",
   "execution_count": 37,
   "metadata": {
    "collapsed": false
   },
   "outputs": [
    {
     "data": {
      "text/html": [
       "<div>\n",
       "<table border=\"1\" class=\"dataframe\">\n",
       "  <thead>\n",
       "    <tr style=\"text-align: right;\">\n",
       "      <th></th>\n",
       "      <th>total_clust</th>\n",
       "      <th>clust_with_raito</th>\n",
       "      <th>total_counts</th>\n",
       "      <th>mouse_clust</th>\n",
       "      <th>spir_clust</th>\n",
       "      <th>mouse_counts</th>\n",
       "      <th>spir_counts</th>\n",
       "      <th>mouse_ratio_c</th>\n",
       "      <th>spir_ratio_c</th>\n",
       "      <th>remain_c</th>\n",
       "      <th>spir_ratio_l</th>\n",
       "      <th>mouse_ratio_l</th>\n",
       "      <th>remain_l</th>\n",
       "    </tr>\n",
       "  </thead>\n",
       "  <tbody>\n",
       "    <tr>\n",
       "      <th>unenr_up</th>\n",
       "      <td>35.000000</td>\n",
       "      <td>57.375000</td>\n",
       "      <td>2242.437500</td>\n",
       "      <td>11.875000</td>\n",
       "      <td>0.687500</td>\n",
       "      <td>1319.500000</td>\n",
       "      <td>17.571429</td>\n",
       "      <td>0.654682</td>\n",
       "      <td>0.006058</td>\n",
       "      <td>0.326529</td>\n",
       "      <td>0.034398</td>\n",
       "      <td>0.404773</td>\n",
       "      <td>0.560829</td>\n",
       "    </tr>\n",
       "    <tr>\n",
       "      <th>unenr_down</th>\n",
       "      <td>32.000000</td>\n",
       "      <td>45.812500</td>\n",
       "      <td>2363.625000</td>\n",
       "      <td>2.062500</td>\n",
       "      <td>11.312500</td>\n",
       "      <td>223.000000</td>\n",
       "      <td>1560.250000</td>\n",
       "      <td>0.111669</td>\n",
       "      <td>0.644615</td>\n",
       "      <td>0.243716</td>\n",
       "      <td>0.391518</td>\n",
       "      <td>0.075932</td>\n",
       "      <td>0.532550</td>\n",
       "    </tr>\n",
       "    <tr>\n",
       "      <th>enr_up</th>\n",
       "      <td>17.333333</td>\n",
       "      <td>27.916667</td>\n",
       "      <td>804.500000</td>\n",
       "      <td>4.750000</td>\n",
       "      <td>0.583333</td>\n",
       "      <td>271.083333</td>\n",
       "      <td>70.583333</td>\n",
       "      <td>0.229421</td>\n",
       "      <td>0.077860</td>\n",
       "      <td>0.692718</td>\n",
       "      <td>0.043074</td>\n",
       "      <td>0.193131</td>\n",
       "      <td>0.763794</td>\n",
       "    </tr>\n",
       "    <tr>\n",
       "      <th>enr_down</th>\n",
       "      <td>11.250000</td>\n",
       "      <td>14.833333</td>\n",
       "      <td>223.416667</td>\n",
       "      <td>1.583333</td>\n",
       "      <td>4.666667</td>\n",
       "      <td>50.166667</td>\n",
       "      <td>120.750000</td>\n",
       "      <td>0.258383</td>\n",
       "      <td>0.492782</td>\n",
       "      <td>0.248835</td>\n",
       "      <td>0.406194</td>\n",
       "      <td>0.160736</td>\n",
       "      <td>0.433070</td>\n",
       "    </tr>\n",
       "  </tbody>\n",
       "</table>\n",
       "</div>"
      ],
      "text/plain": [
       "            total_clust  clust_with_raito  total_counts  mouse_clust  \\\n",
       "unenr_up      35.000000         57.375000   2242.437500    11.875000   \n",
       "unenr_down    32.000000         45.812500   2363.625000     2.062500   \n",
       "enr_up        17.333333         27.916667    804.500000     4.750000   \n",
       "enr_down      11.250000         14.833333    223.416667     1.583333   \n",
       "\n",
       "            spir_clust  mouse_counts  spir_counts  mouse_ratio_c  \\\n",
       "unenr_up      0.687500   1319.500000    17.571429       0.654682   \n",
       "unenr_down   11.312500    223.000000  1560.250000       0.111669   \n",
       "enr_up        0.583333    271.083333    70.583333       0.229421   \n",
       "enr_down      4.666667     50.166667   120.750000       0.258383   \n",
       "\n",
       "            spir_ratio_c  remain_c  spir_ratio_l  mouse_ratio_l  remain_l  \n",
       "unenr_up        0.006058  0.326529      0.034398       0.404773  0.560829  \n",
       "unenr_down      0.644615  0.243716      0.391518       0.075932  0.532550  \n",
       "enr_up          0.077860  0.692718      0.043074       0.193131  0.763794  \n",
       "enr_down        0.492782  0.248835      0.406194       0.160736  0.433070  "
      ]
     },
     "execution_count": 37,
     "metadata": {},
     "output_type": "execute_result"
    }
   ],
   "source": [
    "enr_df"
   ]
  },
  {
   "cell_type": "code",
   "execution_count": 38,
   "metadata": {
    "collapsed": false
   },
   "outputs": [],
   "source": [
    "tech_rep = {'unenr_up': \"Unenriched Upregulated in Tcell\", 'unenr_down': \"Unenriched Downregulated in Tcell\", \n",
    "        \"enr_up\": \"Enriched Up in Tcell\", \"enr_down\": \"Enriched Down in Tcell\"}\n",
    "\n",
    "types = sorted(list(tech_rep.keys()), key=lambda x: (x.split('_')[1], x.split('_')[0]), reverse = True)"
   ]
  },
  {
   "cell_type": "markdown",
   "metadata": {},
   "source": [
    "## Spec count/Locus sources only in significantly different samples"
   ]
  },
  {
   "cell_type": "code",
   "execution_count": 39,
   "metadata": {
    "collapsed": false
   },
   "outputs": [
    {
     "data": {
      "image/png": "[encoded data removed]",
      "text/plain": [
       "<matplotlib.figure.Figure at 0x129baea58>"
      ]
     },
     "metadata": {},
     "output_type": "display_data"
    }
   ],
   "source": [
    "plot_stacked_bar(types, 'Spec count fraction averaged across techincal reps', enr_df)"
   ]
  },
  {
   "cell_type": "markdown",
   "metadata": {},
   "source": [
    "Maybe you're getting a bit more microbiome proteins by spec count when you're enriching?"
   ]
  },
  {
   "cell_type": "code",
   "execution_count": 40,
   "metadata": {
    "collapsed": false
   },
   "outputs": [
    {
     "data": {
      "image/png": "[encoded data removed]",
      "text/plain": [
       "<matplotlib.figure.Figure at 0x12a2dc898>"
      ]
     },
     "metadata": {},
     "output_type": "display_data"
    }
   ],
   "source": [
    "plot_locus_bar(types, 'Locus fraction averaged across techincal reps', enr_df)"
   ]
  },
  {
   "cell_type": "markdown",
   "metadata": {},
   "source": [
    "Doesn't look like enrichment does much at all in affecting the number of loci identified"
   ]
  }
 ],
 "metadata": {
  "kernelspec": {
   "display_name": "Python 3",
   "language": "python",
   "name": "python3"
  },
  "language_info": {
   "codemirror_mode": {
    "name": "ipython",
    "version": 3
   },
   "file_extension": ".py",
   "mimetype": "text/x-python",
   "name": "python",
   "nbconvert_exporter": "python",
   "pygments_lexer": "ipython3",
   "version": "3.5.2"
  }
 },
 "nbformat": 4,
 "nbformat_minor": 0
}
