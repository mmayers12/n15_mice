{
 "cells": [
  {
   "cell_type": "code",
   "execution_count": 1,
   "metadata": {
    "collapsed": false
   },
   "outputs": [],
   "source": [
    "import sys\n",
    "sys.path.append('..')\n",
    "import os\n",
    "from itertools import chain\n",
    "from collections import defaultdict\n",
    "import shelve\n",
    "from tqdm import tqdm\n",
    "import numpy as np\n",
    "import pandas as pd\n",
    "%matplotlib inline\n",
    "import matplotlib.pyplot as plt\n",
    "import seaborn as sns\n",
    "\n",
    "from adjustText import adjust_text\n",
    "\n",
    "from scripts import utils\n",
    "from scripts.analysis import build_loci\n",
    "from scripts.analysis.DBInfo import DBInfo\n",
    "\n",
    "BASE = '../data'\n",
    "\n",
    "db_info = DBInfo(\"compil_mgm\")\n",
    "metadata = build_loci.read_metadata(os.path.join(BASE,\"metadata.csv\"))"
   ]
  },
  {
   "cell_type": "code",
   "execution_count": 2,
   "metadata": {
    "collapsed": false
   },
   "outputs": [
    {
     "data": {
      "text/plain": [
       "'\\nfor sample_name, sample_info in tqdm(list(metadata.iteritems())):\\n    sample = build_loci.Sample(sample_name, sample_info.path, db_info, sample_info)\\n    samples[sample.sample_name] = sample\\n'"
      ]
     },
     "execution_count": 2,
     "metadata": {},
     "output_type": "execute_result"
    }
   ],
   "source": [
    "samples = shelve.open(os.path.join(BASE,\"Samples.shelve\"))\n",
    "\"\"\"\n",
    "for sample_name, sample_info in tqdm(list(metadata.iteritems())):\n",
    "    sample = build_loci.Sample(sample_name, sample_info.path, db_info, sample_info)\n",
    "    samples[sample.sample_name] = sample\n",
    "\"\"\""
   ]
  },
  {
   "cell_type": "code",
   "execution_count": 3,
   "metadata": {
    "collapsed": false
   },
   "outputs": [
    {
     "data": {
      "text/plain": [
       "'\\nfor name, sample in tqdm(samples.items()):\\n    protein_clusters[name] = sample.build_protein_clusters()\\n'"
      ]
     },
     "execution_count": 3,
     "metadata": {},
     "output_type": "execute_result"
    }
   ],
   "source": [
    "protein_clusters = shelve.open(os.path.join(BASE,\"Protein_clusters.shelve\"))\n",
    "\"\"\"\n",
    "for name, sample in tqdm(samples.items()):\n",
    "    protein_clusters[name] = sample.build_protein_clusters()\n",
    "\"\"\""
   ]
  },
  {
   "cell_type": "markdown",
   "metadata": {},
   "source": [
    "Get the list of N15 quantified, unenriched samples."
   ]
  },
  {
   "cell_type": "code",
   "execution_count": 4,
   "metadata": {
    "collapsed": false
   },
   "outputs": [],
   "source": [
    "unenr_keys = []\n",
    "for key, sample in samples.items():\n",
    "    if sample['quant'] and not sample['enriched']:\n",
    "        unenr_keys.append(key)\n",
    "unenr_keys = sorted(unenr_keys, key=lambda x: (x.split('_')[2], x.split('_')[-1], x.split('_')[-2]=='N'))"
   ]
  },
  {
   "cell_type": "code",
   "execution_count": 5,
   "metadata": {
    "collapsed": true
   },
   "outputs": [],
   "source": [
    "rt_un_keys = [key for key in unenr_keys if not '_N_' in key]\n",
    "rag_un_keys = [key for key in unenr_keys if '_N_' in key]"
   ]
  },
  {
   "cell_type": "code",
   "execution_count": 12,
   "metadata": {
    "collapsed": false
   },
   "outputs": [],
   "source": [
    "met1 = pd.read_csv(os.path.join(BASE, 'filt_metadata.csv'), index_col=0)"
   ]
  },
  {
   "cell_type": "markdown",
   "metadata": {},
   "source": [
    "## Plot venn diagrams showing run to run cluster composition for the samples"
   ]
  },
  {
   "cell_type": "code",
   "execution_count": 20,
   "metadata": {
    "collapsed": false
   },
   "outputs": [
    {
     "data": {
      "text/plain": [
       "['11/11/15', '11/21/15', '2015-11-18 2015-11-22']"
      ]
     },
     "execution_count": 20,
     "metadata": {},
     "output_type": "execute_result"
    }
   ],
   "source": [
    "grpd = met1.query('~enriched').groupby('col_date')\n",
    "col_dates = [a for a, b in grpd]\n",
    "col_dates"
   ]
  },
  {
   "cell_type": "code",
   "execution_count": 24,
   "metadata": {
    "collapsed": false
   },
   "outputs": [],
   "source": [
    "col_samps = dict()\n",
    "for date in col_dates:\n",
    "    col_samps[date] = met1.query('col_date == \"{}\" and ~enriched'.format(date)).index.tolist()\n",
    "    "
   ]
  },
  {
   "cell_type": "code",
   "execution_count": 25,
   "metadata": {
    "collapsed": false
   },
   "outputs": [
    {
     "data": {
      "text/plain": [
       "{'11/11/15': ['UL_Mix_1111_1',\n",
       "  'UL_Mix_1111_2',\n",
       "  'UL_Mix_1111_3',\n",
       "  'UL_Mix_1111_N_1',\n",
       "  'UL_Mix_1111_N_2',\n",
       "  'UL_Mix_1111_N_3'],\n",
       " '11/21/15': ['UL_Mix_1121_1',\n",
       "  'UL_Mix_1121_2',\n",
       "  'UL_Mix_1121_3',\n",
       "  'UL_Mix_1121_4',\n",
       "  'UL_Mix_1121_N_1',\n",
       "  'UL_Mix_1121_N_2',\n",
       "  'UL_Mix_1121_N_3',\n",
       "  'UL_Mix_1121_N_4'],\n",
       " '2015-11-18 2015-11-22': ['UL_Mix_Pool_1', 'UL_Mix_Pool_N_1']}"
      ]
     },
     "execution_count": 25,
     "metadata": {},
     "output_type": "execute_result"
    }
   ],
   "source": [
    "col_samps"
   ]
  },
  {
   "cell_type": "code",
   "execution_count": 26,
   "metadata": {
    "collapsed": false
   },
   "outputs": [
    {
     "data": {
      "text/plain": [
       "<matplotlib_venn._common.VennDiagram at 0x1279c7e80>"
      ]
     },
     "execution_count": 26,
     "metadata": {},
     "output_type": "execute_result"
    },
    {
     "name": "stderr",
     "output_type": "stream",
     "text": [
      "/Users/mmayers/projects/n15_mice/venv/lib/python3.5/site-packages/matplotlib/figure.py:1744: UserWarning: This figure includes Axes that are not compatible with tight_layout, so its results might be incorrect.\n",
      "  warnings.warn(\"This figure includes Axes that are not \"\n"
     ]
    },
    {
     "data": {
      "image/png": "[encoded data removed]",
      "text/plain": [
       "<matplotlib.figure.Figure at 0x12a0075c0>"
      ]
     },
     "metadata": {},
     "output_type": "display_data"
    }
   ],
   "source": [
    "from matplotlib_venn import venn3\n",
    "\n",
    "peps = defaultdict(set)\n",
    "\n",
    "for date in col_dates:\n",
    "    for samp in col_samps[date]:\n",
    "        peps[date].update(samples[samp].peptides)\n",
    "venn3([peps[col_dates[0]], peps[col_dates[1]], peps[col_dates[2]]], [col_dates[0], col_dates[1], col_dates[2]])\n",
    "\n"
   ]
  },
  {
   "cell_type": "code",
   "execution_count": 32,
   "metadata": {
    "collapsed": false
   },
   "outputs": [
    {
     "data": {
      "text/plain": [
       "['UL_Mix_1111_1',\n",
       " 'UL_Mix_1111_2',\n",
       " 'UL_Mix_1111_3',\n",
       " 'UL_Mix_1111_N_1',\n",
       " 'UL_Mix_1111_N_2',\n",
       " 'UL_Mix_1111_N_3']"
      ]
     },
     "execution_count": 32,
     "metadata": {},
     "output_type": "execute_result"
    }
   ],
   "source": [
    "col_samps[date]"
   ]
  },
  {
   "cell_type": "code",
   "execution_count": 38,
   "metadata": {
    "collapsed": false
   },
   "outputs": [
    {
     "data": {
      "text/plain": [
       "<matplotlib_venn._common.VennDiagram at 0x12c1b7048>"
      ]
     },
     "execution_count": 38,
     "metadata": {},
     "output_type": "execute_result"
    },
    {
     "name": "stderr",
     "output_type": "stream",
     "text": [
      "/Users/mmayers/projects/n15_mice/venv/lib/python3.5/site-packages/matplotlib/figure.py:1744: UserWarning: This figure includes Axes that are not compatible with tight_layout, so its results might be incorrect.\n",
      "  warnings.warn(\"This figure includes Axes that are not \"\n"
     ]
    },
    {
     "data": {
      "image/png": "[encoded data removed]",
      "text/plain": [
       "<matplotlib.figure.Figure at 0x127dcdeb8>"
      ]
     },
     "metadata": {},
     "output_type": "display_data"
    }
   ],
   "source": [
    "date = col_dates[0]\n",
    "\n",
    "pep_samps = defaultdict(set)\n",
    "for samp in col_samps[date]:\n",
    "    tech = samp[-1]\n",
    "    pep_samps[tech].update(samples[samp].peptides)\n",
    "venn3([pep_samps['1'], pep_samps['2'], pep_samps['3']], ['1', '2', '3'])"
   ]
  },
  {
   "cell_type": "code",
   "execution_count": 39,
   "metadata": {
    "collapsed": false
   },
   "outputs": [
    {
     "data": {
      "text/plain": [
       "<matplotlib_venn._common.VennDiagram at 0x129afc240>"
      ]
     },
     "execution_count": 39,
     "metadata": {},
     "output_type": "execute_result"
    },
    {
     "name": "stderr",
     "output_type": "stream",
     "text": [
      "/Users/mmayers/projects/n15_mice/venv/lib/python3.5/site-packages/matplotlib/figure.py:1744: UserWarning: This figure includes Axes that are not compatible with tight_layout, so its results might be incorrect.\n",
      "  warnings.warn(\"This figure includes Axes that are not \"\n"
     ]
    },
    {
     "data": {
      "image/png": "[encoded data removed]",
      "text/plain": [
       "<matplotlib.figure.Figure at 0x12bde7b70>"
      ]
     },
     "metadata": {},
     "output_type": "display_data"
    }
   ],
   "source": [
    "date = col_dates[1]\n",
    "\n",
    "pep_samps = defaultdict(set)\n",
    "for samp in col_samps[date]:\n",
    "    tech = samp[-1]\n",
    "    pep_samps[tech].update(samples[samp].peptides)\n",
    "venn3([pep_samps['1'], pep_samps['2'], pep_samps['3']], ['1', '2', '3'])"
   ]
  },
  {
   "cell_type": "code",
   "execution_count": 51,
   "metadata": {
    "collapsed": false
   },
   "outputs": [],
   "source": [
    "n14_unenr = met1.query('~enriched and ~n15').index.tolist()\n",
    "n15_unenr = met1.query('~enriched and n15').index.tolist()\n",
    "n14_enr = met1.query('enriched and ~n15').index.tolist()\n",
    "n15_enr = met1.query('enriched and n15').index.tolist()"
   ]
  },
  {
   "cell_type": "code",
   "execution_count": 52,
   "metadata": {
    "collapsed": false
   },
   "outputs": [
    {
     "name": "stdout",
     "output_type": "stream",
     "text": [
      "UL_Mix_1111_1 Pepties:  1591 Proteins:  672\n",
      "UL_Mix_1111_2 Pepties:  2079 Proteins:  970\n",
      "UL_Mix_1111_3 Pepties:  1697 Proteins:  823\n",
      "UL_Mix_1121_1 Pepties:  2682 Proteins:  1427\n",
      "UL_Mix_1121_2 Pepties:  2194 Proteins:  1197\n",
      "UL_Mix_1121_3 Pepties:  1609 Proteins:  849\n",
      "UL_Mix_1121_4 Pepties:  1360 Proteins:  649\n",
      "UL_Mix_Pool_1 Pepties:  2700 Proteins:  1736\n"
     ]
    }
   ],
   "source": [
    "for samp in n14_unenr:\n",
    "    print(samp, 'Pepties: ', len(samples[samp].peptides), 'Proteins: ',  len(protein_clusters[samp]))"
   ]
  },
  {
   "cell_type": "code",
   "execution_count": 53,
   "metadata": {
    "collapsed": false
   },
   "outputs": [
    {
     "name": "stdout",
     "output_type": "stream",
     "text": [
      "UL_Mix_1111_N_1 Pepties:  1247 Proteins:  596\n",
      "UL_Mix_1111_N_2 Pepties:  1628 Proteins:  839\n",
      "UL_Mix_1111_N_3 Pepties:  1311 Proteins:  746\n",
      "UL_Mix_1121_N_1 Pepties:  1570 Proteins:  953\n",
      "UL_Mix_1121_N_2 Pepties:  1687 Proteins:  1000\n",
      "UL_Mix_1121_N_3 Pepties:  1230 Proteins:  698\n",
      "UL_Mix_1121_N_4 Pepties:  1044 Proteins:  562\n",
      "UL_Mix_Pool_N_1 Pepties:  1677 Proteins:  1004\n"
     ]
    }
   ],
   "source": [
    "for samp in n15_unenr:\n",
    "    print(samp, 'Pepties: ', len(samples[samp].peptides), 'Proteins: ',  len(protein_clusters[samp]))"
   ]
  },
  {
   "cell_type": "code",
   "execution_count": 56,
   "metadata": {
    "collapsed": false
   },
   "outputs": [
    {
     "name": "stdout",
     "output_type": "stream",
     "text": [
      "CL_Mix_Pool_1 Pepties:  3168 Proteins:  1550\n",
      "CL_Mix_Pool_2 Pepties:  1417 Proteins:  740\n",
      "CL_Mix_Pool_3 Pepties:  2236 Proteins:  1147\n",
      "CL_Mix_Pool_4 Pepties:  1831 Proteins:  800\n",
      "CL_Mix_Pool_5 Pepties:  3000 Proteins:  1568\n"
     ]
    }
   ],
   "source": [
    "for samp in n14_enr:\n",
    "    print(samp, 'Pepties: ', len(samples[samp].peptides), 'Proteins: ',  len(protein_clusters[samp]))"
   ]
  },
  {
   "cell_type": "code",
   "execution_count": 55,
   "metadata": {
    "collapsed": false
   },
   "outputs": [
    {
     "name": "stdout",
     "output_type": "stream",
     "text": [
      "CL_Mix_Pool_N_1 Pepties:  1709 Proteins:  868\n",
      "CL_Mix_Pool_N_2 Pepties:  948 Proteins:  530\n",
      "CL_Mix_Pool_N_3 Pepties:  1206 Proteins:  640\n",
      "CL_Mix_Pool_N_4 Pepties:  934 Proteins:  357\n",
      "CL_Mix_Pool_N_5 Pepties:  1165 Proteins:  581\n"
     ]
    }
   ],
   "source": [
    "for samp in n15_enr:\n",
    "    print(samp, 'Pepties: ', len(samples[samp].peptides), 'Proteins: ',  len(protein_clusters[samp]))"
   ]
  },
  {
   "cell_type": "code",
   "execution_count": 67,
   "metadata": {
    "collapsed": true
   },
   "outputs": [],
   "source": [
    "import scipy.stats as stats"
   ]
  },
  {
   "cell_type": "code",
   "execution_count": 68,
   "metadata": {
    "collapsed": false
   },
   "outputs": [
    {
     "name": "stdout",
     "output_type": "stream",
     "text": [
      "Avergae Prots:  1040.375 ± 135.988961934\n",
      "Average Peptides:  1989.0 ± 180.257950092\n"
     ]
    }
   ],
   "source": [
    "n14_prot = [len(protein_clusters[samp]) for samp in n14_unenr]\n",
    "n14_pep = [len(samples[samp].peptides) for samp in n14_unenr]\n",
    "\n",
    "print('Avergae Prots: ', np.mean(n14_prot), \"±\", stats.sem(n14_prot))\n",
    "print('Average Peptides: ', np.mean(n14_pep), \"±\", stats.sem(n14_pep))"
   ]
  },
  {
   "cell_type": "code",
   "execution_count": 69,
   "metadata": {
    "collapsed": false
   },
   "outputs": [
    {
     "name": "stdout",
     "output_type": "stream",
     "text": [
      "Avergae Prots:  799.75 ± 62.4107219497\n",
      "Average Peptides:  1424.25 ± 86.8335332691\n"
     ]
    }
   ],
   "source": [
    "n15_prot = [len(protein_clusters[samp]) for samp in n15_unenr]\n",
    "n15_pep = [len(samples[samp].peptides) for samp in n15_unenr]\n",
    "\n",
    "print('Avergae Prots: ', np.mean(n15_prot), \"±\", stats.sem(n15_prot))\n",
    "print('Average Peptides: ', np.mean(n15_pep), \"±\", stats.sem(n15_pep))"
   ]
  },
  {
   "cell_type": "code",
   "execution_count": 70,
   "metadata": {
    "collapsed": false
   },
   "outputs": [
    {
     "data": {
      "text/plain": [
       "1.3008752735229758"
      ]
     },
     "execution_count": 70,
     "metadata": {},
     "output_type": "execute_result"
    }
   ],
   "source": [
    "np.mean(n14_prot)/np.mean(n15_prot)"
   ]
  },
  {
   "cell_type": "code",
   "execution_count": 71,
   "metadata": {
    "collapsed": false
   },
   "outputs": [
    {
     "data": {
      "text/plain": [
       "1.39652448657188"
      ]
     },
     "execution_count": 71,
     "metadata": {},
     "output_type": "execute_result"
    }
   ],
   "source": [
    "np.mean(n14_pep)/np.mean(n15_pep)"
   ]
  },
  {
   "cell_type": "code",
   "execution_count": null,
   "metadata": {
    "collapsed": true
   },
   "outputs": [],
   "source": []
  },
  {
   "cell_type": "code",
   "execution_count": 73,
   "metadata": {
    "collapsed": false
   },
   "outputs": [
    {
     "name": "stdout",
     "output_type": "stream",
     "text": [
      "Avergae Prots:  1161.0 ± 176.738224502\n",
      "Average Peptides:  2330.4 ± 334.854386264\n"
     ]
    }
   ],
   "source": [
    "n14_prot1 = [len(protein_clusters[samp]) for samp in n14_enr]\n",
    "n14_pep1 = [len(samples[samp].peptides) for samp in n14_enr]\n",
    "\n",
    "print('Avergae Prots: ', np.mean(n14_prot1), \"±\", stats.sem(n14_prot1))\n",
    "print('Average Peptides: ', np.mean(n14_pep1), \"±\", stats.sem(n14_pep1))"
   ]
  },
  {
   "cell_type": "code",
   "execution_count": 74,
   "metadata": {
    "collapsed": false
   },
   "outputs": [
    {
     "name": "stdout",
     "output_type": "stream",
     "text": [
      "Avergae Prots:  595.2 ± 82.9514315729\n",
      "Average Peptides:  1192.4 ± 140.412463834\n"
     ]
    }
   ],
   "source": [
    "n15_prot1 = [len(protein_clusters[samp]) for samp in n15_enr]\n",
    "n15_pep1 = [len(samples[samp].peptides) for samp in n15_enr]\n",
    "\n",
    "print('Avergae Prots: ', np.mean(n15_prot1), \"±\", stats.sem(n15_prot1))\n",
    "print('Average Peptides: ', np.mean(n15_pep1), \"±\", stats.sem(n15_pep1))"
   ]
  },
  {
   "cell_type": "code",
   "execution_count": null,
   "metadata": {
    "collapsed": true
   },
   "outputs": [],
   "source": []
  }
 ],
 "metadata": {
  "kernelspec": {
   "display_name": "Python 3",
   "language": "python",
   "name": "python3"
  },
  "language_info": {
   "codemirror_mode": {
    "name": "ipython",
    "version": 3
   },
   "file_extension": ".py",
   "mimetype": "text/x-python",
   "name": "python",
   "nbconvert_exporter": "python",
   "pygments_lexer": "ipython3",
   "version": "3.5.2"
  }
 },
 "nbformat": 4,
 "nbformat_minor": 0
}
