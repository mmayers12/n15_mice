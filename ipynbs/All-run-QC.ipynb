{
 "cells": [
  {
   "cell_type": "code",
   "execution_count": 1,
   "metadata": {
    "collapsed": true
   },
   "outputs": [],
   "source": [
    "# 11/12-11/14\n",
    "# 12/7-12/14\n",
    "# 1/22-1/29\n",
    "# 2/16-2/23\n",
    "# 3/12-3/13\n",
    "# 3/19-3/20\n",
    "# 3/31-4/3\n",
    "# 4/9-4/12\n",
    "# 5/6-5/9\n",
    "# 5/27-5/30"
   ]
  },
  {
   "cell_type": "code",
   "execution_count": 2,
   "metadata": {
    "collapsed": true
   },
   "outputs": [],
   "source": [
    "import os\n",
    "import sys\n",
    "sys.path.append('..')\n",
    "import pandas as pd\n",
    "import numpy as np\n",
    "import matplotlib.pyplot as plt\n",
    "import seaborn as sns\n",
    "\n",
    "sns.set(style='white', color_codes=True)\n",
    "\n",
    "from scripts import dtaselect_QC as qc\n",
    "\n",
    "%matplotlib inline"
   ]
  },
  {
   "cell_type": "code",
   "execution_count": 3,
   "metadata": {
    "collapsed": true
   },
   "outputs": [],
   "source": [
    "def make_date_range(date1, date2):\n",
    "    return pd.date_range(date1, date2).tolist()"
   ]
  },
  {
   "cell_type": "code",
   "execution_count": 4,
   "metadata": {
    "collapsed": false
   },
   "outputs": [],
   "source": [
    "dates = [('2015-11-12', '2015-11-14'), ('2015-12-07', '2015-12-14'), \n",
    "         ('2016-01-22', '2016-01-29'), ('2016-02-16', '2016-02-23'), \n",
    "         ('2016-03-12', '2016-03-13'), ('2016-03-19', '2016-03-20'), \n",
    "         ('2016-03-31', '2016-04-03'), ('2016-04-09', '2016-04-12'), \n",
    "         ('2016-05-06', '2016-05-09'), ('2016-05-27', '2016-05-30')]\n",
    "\n",
    "date_list = []\n",
    "\n",
    "for date in dates:\n",
    "    date_list += make_date_range(*date)"
   ]
  },
  {
   "cell_type": "code",
   "execution_count": 5,
   "metadata": {
    "collapsed": false
   },
   "outputs": [],
   "source": [
    "dates = pd.Series(date_list)"
   ]
  },
  {
   "cell_type": "code",
   "execution_count": 6,
   "metadata": {
    "collapsed": false
   },
   "outputs": [],
   "source": [
    "dates = pd.DataFrame(dates, columns = ['date'])"
   ]
  },
  {
   "cell_type": "code",
   "execution_count": 7,
   "metadata": {
    "collapsed": false
   },
   "outputs": [],
   "source": [
    "df = pd.read_csv('../data/run_info.csv', parse_dates=['date'] )"
   ]
  },
  {
   "cell_type": "code",
   "execution_count": 8,
   "metadata": {
    "collapsed": false
   },
   "outputs": [
    {
     "data": {
      "text/html": [
       "<div>\n",
       "<table border=\"1\" class=\"dataframe\">\n",
       "  <thead>\n",
       "    <tr style=\"text-align: right;\">\n",
       "      <th></th>\n",
       "      <th>run</th>\n",
       "      <th>date</th>\n",
       "      <th>scans</th>\n",
       "      <th>protein</th>\n",
       "      <th>peptide</th>\n",
       "      <th>psm</th>\n",
       "    </tr>\n",
       "  </thead>\n",
       "  <tbody>\n",
       "    <tr>\n",
       "      <th>0</th>\n",
       "      <td>20151112-UnerFecal-Lys-N15-1016/</td>\n",
       "      <td>2015-11-12</td>\n",
       "      <td>170636</td>\n",
       "      <td>131.0</td>\n",
       "      <td>516.0</td>\n",
       "      <td>2000.0</td>\n",
       "    </tr>\n",
       "    <tr>\n",
       "      <th>1</th>\n",
       "      <td>20151113-UnerFecal-Lys-N15-1019/</td>\n",
       "      <td>2015-11-13</td>\n",
       "      <td>185067</td>\n",
       "      <td>49.0</td>\n",
       "      <td>146.0</td>\n",
       "      <td>574.0</td>\n",
       "    </tr>\n",
       "    <tr>\n",
       "      <th>2</th>\n",
       "      <td>20151114-UnerFecal-Lys-N15-1021/</td>\n",
       "      <td>2015-11-14</td>\n",
       "      <td>171275</td>\n",
       "      <td>NaN</td>\n",
       "      <td>NaN</td>\n",
       "      <td>NaN</td>\n",
       "    </tr>\n",
       "    <tr>\n",
       "      <th>3</th>\n",
       "      <td>20151207-UnerFecal-Lys-N14N15-1021/</td>\n",
       "      <td>2015-12-07</td>\n",
       "      <td>159870</td>\n",
       "      <td>3365.0</td>\n",
       "      <td>5945.0</td>\n",
       "      <td>35274.0</td>\n",
       "    </tr>\n",
       "    <tr>\n",
       "      <th>4</th>\n",
       "      <td>20151208-UnerFecal-Lys-N14N15-1019/</td>\n",
       "      <td>2015-12-08</td>\n",
       "      <td>143048</td>\n",
       "      <td>1015.0</td>\n",
       "      <td>2377.0</td>\n",
       "      <td>16491.0</td>\n",
       "    </tr>\n",
       "  </tbody>\n",
       "</table>\n",
       "</div>"
      ],
      "text/plain": [
       "                                   run       date   scans  protein  peptide  \\\n",
       "0     20151112-UnerFecal-Lys-N15-1016/ 2015-11-12  170636    131.0    516.0   \n",
       "1     20151113-UnerFecal-Lys-N15-1019/ 2015-11-13  185067     49.0    146.0   \n",
       "2     20151114-UnerFecal-Lys-N15-1021/ 2015-11-14  171275      NaN      NaN   \n",
       "3  20151207-UnerFecal-Lys-N14N15-1021/ 2015-12-07  159870   3365.0   5945.0   \n",
       "4  20151208-UnerFecal-Lys-N14N15-1019/ 2015-12-08  143048   1015.0   2377.0   \n",
       "\n",
       "       psm  \n",
       "0   2000.0  \n",
       "1    574.0  \n",
       "2      NaN  \n",
       "3  35274.0  \n",
       "4  16491.0  "
      ]
     },
     "execution_count": 8,
     "metadata": {},
     "output_type": "execute_result"
    }
   ],
   "source": [
    "df.head()"
   ]
  },
  {
   "cell_type": "code",
   "execution_count": 9,
   "metadata": {
    "collapsed": false
   },
   "outputs": [],
   "source": [
    "df = pd.merge(dates, df, on='date', how='left')"
   ]
  },
  {
   "cell_type": "code",
   "execution_count": 10,
   "metadata": {
    "collapsed": false
   },
   "outputs": [
    {
     "data": {
      "text/plain": [
       "(47, 6)"
      ]
     },
     "execution_count": 10,
     "metadata": {},
     "output_type": "execute_result"
    }
   ],
   "source": [
    "df.shape"
   ]
  },
  {
   "cell_type": "code",
   "execution_count": 11,
   "metadata": {
    "collapsed": false
   },
   "outputs": [
    {
     "data": {
      "text/html": [
       "<div>\n",
       "<table border=\"1\" class=\"dataframe\">\n",
       "  <thead>\n",
       "    <tr style=\"text-align: right;\">\n",
       "      <th></th>\n",
       "      <th>run</th>\n",
       "      <th>scans</th>\n",
       "      <th>protein</th>\n",
       "      <th>peptide</th>\n",
       "      <th>psm</th>\n",
       "    </tr>\n",
       "    <tr>\n",
       "      <th>date</th>\n",
       "      <th></th>\n",
       "      <th></th>\n",
       "      <th></th>\n",
       "      <th></th>\n",
       "      <th></th>\n",
       "    </tr>\n",
       "  </thead>\n",
       "  <tbody>\n",
       "    <tr>\n",
       "      <th>2015-11-12</th>\n",
       "      <td>20151112-UnerFecal-Lys-N15-1016/</td>\n",
       "      <td>170636.0</td>\n",
       "      <td>131.0</td>\n",
       "      <td>516.0</td>\n",
       "      <td>2000.0</td>\n",
       "    </tr>\n",
       "    <tr>\n",
       "      <th>2015-11-13</th>\n",
       "      <td>20151113-UnerFecal-Lys-N15-1019/</td>\n",
       "      <td>185067.0</td>\n",
       "      <td>49.0</td>\n",
       "      <td>146.0</td>\n",
       "      <td>574.0</td>\n",
       "    </tr>\n",
       "    <tr>\n",
       "      <th>2015-11-14</th>\n",
       "      <td>20151114-UnerFecal-Lys-N15-1021/</td>\n",
       "      <td>171275.0</td>\n",
       "      <td>NaN</td>\n",
       "      <td>NaN</td>\n",
       "      <td>NaN</td>\n",
       "    </tr>\n",
       "    <tr>\n",
       "      <th>2015-12-07</th>\n",
       "      <td>20151207-UnerFecal-Lys-N14N15-1021/</td>\n",
       "      <td>159870.0</td>\n",
       "      <td>3365.0</td>\n",
       "      <td>5945.0</td>\n",
       "      <td>35274.0</td>\n",
       "    </tr>\n",
       "    <tr>\n",
       "      <th>2015-12-08</th>\n",
       "      <td>20151208-UnerFecal-Lys-N14N15-1019/</td>\n",
       "      <td>143048.0</td>\n",
       "      <td>1015.0</td>\n",
       "      <td>2377.0</td>\n",
       "      <td>16491.0</td>\n",
       "    </tr>\n",
       "  </tbody>\n",
       "</table>\n",
       "</div>"
      ],
      "text/plain": [
       "                                            run     scans  protein  peptide  \\\n",
       "date                                                                          \n",
       "2015-11-12     20151112-UnerFecal-Lys-N15-1016/  170636.0    131.0    516.0   \n",
       "2015-11-13     20151113-UnerFecal-Lys-N15-1019/  185067.0     49.0    146.0   \n",
       "2015-11-14     20151114-UnerFecal-Lys-N15-1021/  171275.0      NaN      NaN   \n",
       "2015-12-07  20151207-UnerFecal-Lys-N14N15-1021/  159870.0   3365.0   5945.0   \n",
       "2015-12-08  20151208-UnerFecal-Lys-N14N15-1019/  143048.0   1015.0   2377.0   \n",
       "\n",
       "                psm  \n",
       "date                 \n",
       "2015-11-12   2000.0  \n",
       "2015-11-13    574.0  \n",
       "2015-11-14      NaN  \n",
       "2015-12-07  35274.0  \n",
       "2015-12-08  16491.0  "
      ]
     },
     "execution_count": 11,
     "metadata": {},
     "output_type": "execute_result"
    }
   ],
   "source": [
    "df = df.set_index('date')\n",
    "df.head()"
   ]
  },
  {
   "cell_type": "code",
   "execution_count": 12,
   "metadata": {
    "collapsed": false
   },
   "outputs": [
    {
     "data": {
      "text/plain": [
       "89.361702127659569"
      ]
     },
     "execution_count": 12,
     "metadata": {},
     "output_type": "execute_result"
    }
   ],
   "source": [
    "# % of days actually got to run a sample\n",
    "df['run'].count() / len(df) * 100"
   ]
  },
  {
   "cell_type": "markdown",
   "metadata": {},
   "source": [
    "## Looking at the Number of runs that actully produced decent data\n",
    "\n",
    "First we'll look at how many scans there were per run.  MS2 scans per run is a decent early indicator for the possibility for good data.  Bad runs will have low counts for a varrying number of reasons.  A \"Good Run\" is one where data is collected the whole time.  No droplets form, there are no clogs in the tip, and no leaks that reduce the quality of the run.  \n",
    "\n",
    "Good runs tend to have ms2 scans within 10% of one another."
   ]
  },
  {
   "cell_type": "code",
   "execution_count": 13,
   "metadata": {
    "collapsed": false
   },
   "outputs": [
    {
     "data": {
      "image/png": "[encoded data removed]",
      "text/plain": [
       "<matplotlib.figure.Figure at 0x7f557298e470>"
      ]
     },
     "metadata": {},
     "output_type": "display_data"
    }
   ],
   "source": [
    "sns.distplot(df['scans'].dropna(), kde=False, bins=10)\n",
    "plt.ylabel('counts')\n",
    "plt.title('Histogram of # of ms2 scans per 11-step MudPIT run');"
   ]
  },
  {
   "cell_type": "markdown",
   "metadata": {},
   "source": [
    "#### Note: changed from using an 'on-line' transfer to 'on-bomb' transfer method for samples on 2-16-2016\n",
    "\n",
    "Should analyze these separately, as the on-bomb transfers are likely to have more scans than on-line"
   ]
  },
  {
   "cell_type": "code",
   "execution_count": 14,
   "metadata": {
    "collapsed": true
   },
   "outputs": [],
   "source": [
    "change_date = '2016-02-16'"
   ]
  },
  {
   "cell_type": "code",
   "execution_count": 15,
   "metadata": {
    "collapsed": false
   },
   "outputs": [
    {
     "data": {
      "image/png": "[encoded data removed]",
      "text/plain": [
       "<matplotlib.figure.Figure at 0x7f5570924710>"
      ]
     },
     "metadata": {},
     "output_type": "display_data"
    }
   ],
   "source": [
    "sns.distplot(df.loc[:change_date]['scans'].dropna(), kde=False, bins=10)\n",
    "plt.ylabel('counts')\n",
    "plt.title('Histogram of ms2 scans in online trasnfer runs');"
   ]
  },
  {
   "cell_type": "code",
   "execution_count": 16,
   "metadata": {
    "collapsed": false
   },
   "outputs": [
    {
     "data": {
      "image/png": "[encoded data removed]",
      "text/plain": [
       "<matplotlib.figure.Figure at 0x7f557088ef98>"
      ]
     },
     "metadata": {},
     "output_type": "display_data"
    }
   ],
   "source": [
    "sns.distplot(df[change_date:]['scans'].dropna(), kde=False, bins=10)\n",
    "plt.ylabel('counts')\n",
    "plt.title('Histogram of ms2 scans in On-Bomb Trasnfer Runs');"
   ]
  },
  {
   "cell_type": "markdown",
   "metadata": {},
   "source": [
    "Definitely seems like there's a higher upper limit for scans in runs that were transferred on bombs as opposed to inline (as there should be, since they effectively get 1 more LC step to produce data)\n",
    "\n",
    "Now let's see if we can define a lower bound for a 'good run' and see how many of the runs fall into this category"
   ]
  },
  {
   "cell_type": "code",
   "execution_count": 17,
   "metadata": {
    "collapsed": false
   },
   "outputs": [
    {
     "data": {
      "text/plain": [
       "173750.79999999999"
      ]
     },
     "execution_count": 17,
     "metadata": {},
     "output_type": "execute_result"
    }
   ],
   "source": [
    "good_scans_transfer = np.mean(sorted(df.loc[:change_date]['scans'], reverse=True)[:5])\n",
    "good_scans_transfer"
   ]
  },
  {
   "cell_type": "markdown",
   "metadata": {},
   "source": [
    "About 170,000 or so scans in a normal run with inline transfer (no peps in step 1)"
   ]
  },
  {
   "cell_type": "code",
   "execution_count": 18,
   "metadata": {
    "collapsed": false
   },
   "outputs": [
    {
     "data": {
      "text/plain": [
       "188874.60000000001"
      ]
     },
     "execution_count": 18,
     "metadata": {},
     "output_type": "execute_result"
    }
   ],
   "source": [
    "good_scans_bomb = np.mean(sorted(df.loc[change_date:]['scans'].dropna(), reverse=True)[:5])\n",
    "good_scans_bomb"
   ]
  },
  {
   "cell_type": "markdown",
   "metadata": {},
   "source": [
    "Around 190,000 scans in a good run with on bomb transfer (peps in all steps)"
   ]
  },
  {
   "cell_type": "markdown",
   "metadata": {},
   "source": [
    "Define a good run as > 90% of the avergae of the top 5 runs for each type (a fairly conservative estimate)"
   ]
  },
  {
   "cell_type": "code",
   "execution_count": 19,
   "metadata": {
    "collapsed": false
   },
   "outputs": [
    {
     "data": {
      "text/plain": [
       "33.333333333333329"
      ]
     },
     "execution_count": 19,
     "metadata": {},
     "output_type": "execute_result"
    }
   ],
   "source": [
    "min_scans_transfer = good_scans_transfer * .90\n",
    "min_scans_bomb = good_scans_bomb * .90\n",
    "\n",
    "df.loc[:change_date, 'good_run'] = df.loc[:change_date, 'scans'] > min_scans_transfer\n",
    "df.loc[change_date:, 'good_run'] = df.loc[change_date:, 'scans'] > min_scans_bomb\n",
    "\n",
    "# Lets see what percentage of runs were 'good'\n",
    "df['good_run'].sum() / df['run'].count() * 100"
   ]
  },
  {
   "cell_type": "markdown",
   "metadata": {},
   "source": [
    "So about 1 in 3 runs actually make it all the way with good data on the machine the whole time"
   ]
  },
  {
   "cell_type": "code",
   "execution_count": 20,
   "metadata": {
    "collapsed": false
   },
   "outputs": [
    {
     "data": {
      "image/png": "[encoded data removed]",
      "text/plain": [
       "<matplotlib.figure.Figure at 0x7f5570771ef0>"
      ]
     },
     "metadata": {},
     "output_type": "display_data"
    }
   ],
   "source": [
    "sns.distplot(df.query('good_run == True').loc[:change_date, 'scans'], kde=False, bins=10)\n",
    "plt.ylabel('counts')\n",
    "plt.title(\"Histogram of ms2 scans in 'good' online trasnfer runs\");"
   ]
  },
  {
   "cell_type": "code",
   "execution_count": 21,
   "metadata": {
    "collapsed": false
   },
   "outputs": [
    {
     "data": {
      "image/png": "[encoded data removed]",
      "text/plain": [
       "<matplotlib.figure.Figure at 0x7f55a8f88160>"
      ]
     },
     "metadata": {},
     "output_type": "display_data"
    }
   ],
   "source": [
    "sns.distplot(df.query('good_run == True').loc[change_date:, 'scans'], kde=False, bins=10)\n",
    "plt.ylabel('counts')\n",
    "plt.title(\"Histogram of ms2 scans in 'good' On-Bomb Trasnfer Runs\");"
   ]
  },
  {
   "cell_type": "markdown",
   "metadata": {},
   "source": [
    "## Now to look at the runs a little closer and see if there's any trend in where they go wrong"
   ]
  },
  {
   "cell_type": "code",
   "execution_count": 22,
   "metadata": {
    "collapsed": true
   },
   "outputs": [],
   "source": [
    "def get_psm_per_scan(sample):\n",
    "    head = '../data'\n",
    "    tail = 'rawXtractor/dta-pfp-0.01/DTASelect-filter.txt'\n",
    "    dta_path = os.path.join(head, sample, tail)\n",
    "    name, parser = qc.get_name_parser(dta_path)\n",
    "    steps, scans = qc.num_PSM_per_scan(parser)\n",
    "    steps = ('step_{}'.format(s) for s in steps)\n",
    "    return pd.DataFrame([scans], columns=list(steps))"
   ]
  },
  {
   "cell_type": "code",
   "execution_count": 23,
   "metadata": {
    "collapsed": false
   },
   "outputs": [],
   "source": [
    "scan_info = df.dropna()['run'].apply(get_psm_per_scan)"
   ]
  },
  {
   "cell_type": "code",
   "execution_count": 24,
   "metadata": {
    "collapsed": false
   },
   "outputs": [
    {
     "data": {
      "text/html": [
       "<div>\n",
       "<table border=\"1\" class=\"dataframe\">\n",
       "  <thead>\n",
       "    <tr style=\"text-align: right;\">\n",
       "      <th></th>\n",
       "      <th>step_1</th>\n",
       "      <th>step_10</th>\n",
       "      <th>step_11</th>\n",
       "      <th>step_2</th>\n",
       "      <th>step_3</th>\n",
       "      <th>step_4</th>\n",
       "      <th>step_5</th>\n",
       "      <th>step_6</th>\n",
       "      <th>step_7</th>\n",
       "      <th>step_8</th>\n",
       "      <th>step_9</th>\n",
       "    </tr>\n",
       "    <tr>\n",
       "      <th>date</th>\n",
       "      <th></th>\n",
       "      <th></th>\n",
       "      <th></th>\n",
       "      <th></th>\n",
       "      <th></th>\n",
       "      <th></th>\n",
       "      <th></th>\n",
       "      <th></th>\n",
       "      <th></th>\n",
       "      <th></th>\n",
       "      <th></th>\n",
       "    </tr>\n",
       "  </thead>\n",
       "  <tbody>\n",
       "    <tr>\n",
       "      <th>2015-11-12</th>\n",
       "      <td>NaN</td>\n",
       "      <td>23.0</td>\n",
       "      <td>24.0</td>\n",
       "      <td>64.0</td>\n",
       "      <td>76.0</td>\n",
       "      <td>60</td>\n",
       "      <td>44.0</td>\n",
       "      <td>55.0</td>\n",
       "      <td>53.0</td>\n",
       "      <td>39.0</td>\n",
       "      <td>55.0</td>\n",
       "    </tr>\n",
       "    <tr>\n",
       "      <th>2015-11-13</th>\n",
       "      <td>NaN</td>\n",
       "      <td>5.0</td>\n",
       "      <td>9.0</td>\n",
       "      <td>13.0</td>\n",
       "      <td>21.0</td>\n",
       "      <td>20</td>\n",
       "      <td>14.0</td>\n",
       "      <td>14.0</td>\n",
       "      <td>12.0</td>\n",
       "      <td>11.0</td>\n",
       "      <td>18.0</td>\n",
       "    </tr>\n",
       "    <tr>\n",
       "      <th>2015-12-07</th>\n",
       "      <td>1.0</td>\n",
       "      <td>175.0</td>\n",
       "      <td>471.0</td>\n",
       "      <td>1157.0</td>\n",
       "      <td>896.0</td>\n",
       "      <td>687</td>\n",
       "      <td>624.0</td>\n",
       "      <td>478.0</td>\n",
       "      <td>450.0</td>\n",
       "      <td>430.0</td>\n",
       "      <td>454.0</td>\n",
       "    </tr>\n",
       "    <tr>\n",
       "      <th>2015-12-08</th>\n",
       "      <td>NaN</td>\n",
       "      <td>38.0</td>\n",
       "      <td>107.0</td>\n",
       "      <td>595.0</td>\n",
       "      <td>394.0</td>\n",
       "      <td>285</td>\n",
       "      <td>215.0</td>\n",
       "      <td>208.0</td>\n",
       "      <td>175.0</td>\n",
       "      <td>146.0</td>\n",
       "      <td>156.0</td>\n",
       "    </tr>\n",
       "    <tr>\n",
       "      <th>2015-12-09</th>\n",
       "      <td>1.0</td>\n",
       "      <td>321.0</td>\n",
       "      <td>270.0</td>\n",
       "      <td>1118.0</td>\n",
       "      <td>784.0</td>\n",
       "      <td>575</td>\n",
       "      <td>567.0</td>\n",
       "      <td>465.0</td>\n",
       "      <td>397.0</td>\n",
       "      <td>370.0</td>\n",
       "      <td>580.0</td>\n",
       "    </tr>\n",
       "  </tbody>\n",
       "</table>\n",
       "</div>"
      ],
      "text/plain": [
       "            step_1  step_10  step_11  step_2  step_3  step_4  step_5  step_6  \\\n",
       "date                                                                           \n",
       "2015-11-12     NaN     23.0     24.0    64.0    76.0      60    44.0    55.0   \n",
       "2015-11-13     NaN      5.0      9.0    13.0    21.0      20    14.0    14.0   \n",
       "2015-12-07     1.0    175.0    471.0  1157.0   896.0     687   624.0   478.0   \n",
       "2015-12-08     NaN     38.0    107.0   595.0   394.0     285   215.0   208.0   \n",
       "2015-12-09     1.0    321.0    270.0  1118.0   784.0     575   567.0   465.0   \n",
       "\n",
       "            step_7  step_8  step_9  \n",
       "date                                \n",
       "2015-11-12    53.0    39.0    55.0  \n",
       "2015-11-13    12.0    11.0    18.0  \n",
       "2015-12-07   450.0   430.0   454.0  \n",
       "2015-12-08   175.0   146.0   156.0  \n",
       "2015-12-09   397.0   370.0   580.0  "
      ]
     },
     "execution_count": 24,
     "metadata": {},
     "output_type": "execute_result"
    }
   ],
   "source": [
    "scan_info = (pd.concat(scan_info.values, keys=scan_info.keys())\n",
    "               .reset_index()\n",
    "               .drop('level_1', axis=1)\n",
    "               .rename(columns={'level_0': 'date'})\n",
    "               .set_index('date'))\n",
    "scan_info.head()"
   ]
  },
  {
   "cell_type": "code",
   "execution_count": 25,
   "metadata": {
    "collapsed": false
   },
   "outputs": [
    {
     "data": {
      "text/html": [
       "<div>\n",
       "<table border=\"1\" class=\"dataframe\">\n",
       "  <thead>\n",
       "    <tr style=\"text-align: right;\">\n",
       "      <th></th>\n",
       "      <th>run</th>\n",
       "      <th>scans</th>\n",
       "      <th>protein</th>\n",
       "      <th>peptide</th>\n",
       "      <th>psm</th>\n",
       "      <th>good_run</th>\n",
       "      <th>step_1</th>\n",
       "      <th>step_10</th>\n",
       "      <th>step_11</th>\n",
       "      <th>step_2</th>\n",
       "      <th>step_3</th>\n",
       "      <th>step_4</th>\n",
       "      <th>step_5</th>\n",
       "      <th>step_6</th>\n",
       "      <th>step_7</th>\n",
       "      <th>step_8</th>\n",
       "      <th>step_9</th>\n",
       "    </tr>\n",
       "    <tr>\n",
       "      <th>date</th>\n",
       "      <th></th>\n",
       "      <th></th>\n",
       "      <th></th>\n",
       "      <th></th>\n",
       "      <th></th>\n",
       "      <th></th>\n",
       "      <th></th>\n",
       "      <th></th>\n",
       "      <th></th>\n",
       "      <th></th>\n",
       "      <th></th>\n",
       "      <th></th>\n",
       "      <th></th>\n",
       "      <th></th>\n",
       "      <th></th>\n",
       "      <th></th>\n",
       "      <th></th>\n",
       "    </tr>\n",
       "  </thead>\n",
       "  <tbody>\n",
       "    <tr>\n",
       "      <th>2015-11-12</th>\n",
       "      <td>20151112-UnerFecal-Lys-N15-1016/</td>\n",
       "      <td>170636.0</td>\n",
       "      <td>131.0</td>\n",
       "      <td>516.0</td>\n",
       "      <td>2000.0</td>\n",
       "      <td>True</td>\n",
       "      <td>NaN</td>\n",
       "      <td>23.0</td>\n",
       "      <td>24.0</td>\n",
       "      <td>64.0</td>\n",
       "      <td>76.0</td>\n",
       "      <td>60.0</td>\n",
       "      <td>44.0</td>\n",
       "      <td>55.0</td>\n",
       "      <td>53.0</td>\n",
       "      <td>39.0</td>\n",
       "      <td>55.0</td>\n",
       "    </tr>\n",
       "    <tr>\n",
       "      <th>2015-11-13</th>\n",
       "      <td>20151113-UnerFecal-Lys-N15-1019/</td>\n",
       "      <td>185067.0</td>\n",
       "      <td>49.0</td>\n",
       "      <td>146.0</td>\n",
       "      <td>574.0</td>\n",
       "      <td>True</td>\n",
       "      <td>NaN</td>\n",
       "      <td>5.0</td>\n",
       "      <td>9.0</td>\n",
       "      <td>13.0</td>\n",
       "      <td>21.0</td>\n",
       "      <td>20.0</td>\n",
       "      <td>14.0</td>\n",
       "      <td>14.0</td>\n",
       "      <td>12.0</td>\n",
       "      <td>11.0</td>\n",
       "      <td>18.0</td>\n",
       "    </tr>\n",
       "    <tr>\n",
       "      <th>2015-11-14</th>\n",
       "      <td>20151114-UnerFecal-Lys-N15-1021/</td>\n",
       "      <td>171275.0</td>\n",
       "      <td>NaN</td>\n",
       "      <td>NaN</td>\n",
       "      <td>NaN</td>\n",
       "      <td>True</td>\n",
       "      <td>NaN</td>\n",
       "      <td>NaN</td>\n",
       "      <td>NaN</td>\n",
       "      <td>NaN</td>\n",
       "      <td>NaN</td>\n",
       "      <td>NaN</td>\n",
       "      <td>NaN</td>\n",
       "      <td>NaN</td>\n",
       "      <td>NaN</td>\n",
       "      <td>NaN</td>\n",
       "      <td>NaN</td>\n",
       "    </tr>\n",
       "    <tr>\n",
       "      <th>2015-12-07</th>\n",
       "      <td>20151207-UnerFecal-Lys-N14N15-1021/</td>\n",
       "      <td>159870.0</td>\n",
       "      <td>3365.0</td>\n",
       "      <td>5945.0</td>\n",
       "      <td>35274.0</td>\n",
       "      <td>True</td>\n",
       "      <td>1.0</td>\n",
       "      <td>175.0</td>\n",
       "      <td>471.0</td>\n",
       "      <td>1157.0</td>\n",
       "      <td>896.0</td>\n",
       "      <td>687.0</td>\n",
       "      <td>624.0</td>\n",
       "      <td>478.0</td>\n",
       "      <td>450.0</td>\n",
       "      <td>430.0</td>\n",
       "      <td>454.0</td>\n",
       "    </tr>\n",
       "    <tr>\n",
       "      <th>2015-12-08</th>\n",
       "      <td>20151208-UnerFecal-Lys-N14N15-1019/</td>\n",
       "      <td>143048.0</td>\n",
       "      <td>1015.0</td>\n",
       "      <td>2377.0</td>\n",
       "      <td>16491.0</td>\n",
       "      <td>False</td>\n",
       "      <td>NaN</td>\n",
       "      <td>38.0</td>\n",
       "      <td>107.0</td>\n",
       "      <td>595.0</td>\n",
       "      <td>394.0</td>\n",
       "      <td>285.0</td>\n",
       "      <td>215.0</td>\n",
       "      <td>208.0</td>\n",
       "      <td>175.0</td>\n",
       "      <td>146.0</td>\n",
       "      <td>156.0</td>\n",
       "    </tr>\n",
       "  </tbody>\n",
       "</table>\n",
       "</div>"
      ],
      "text/plain": [
       "                                            run     scans  protein  peptide  \\\n",
       "date                                                                          \n",
       "2015-11-12     20151112-UnerFecal-Lys-N15-1016/  170636.0    131.0    516.0   \n",
       "2015-11-13     20151113-UnerFecal-Lys-N15-1019/  185067.0     49.0    146.0   \n",
       "2015-11-14     20151114-UnerFecal-Lys-N15-1021/  171275.0      NaN      NaN   \n",
       "2015-12-07  20151207-UnerFecal-Lys-N14N15-1021/  159870.0   3365.0   5945.0   \n",
       "2015-12-08  20151208-UnerFecal-Lys-N14N15-1019/  143048.0   1015.0   2377.0   \n",
       "\n",
       "                psm good_run  step_1  step_10  step_11  step_2  step_3  \\\n",
       "date                                                                     \n",
       "2015-11-12   2000.0     True     NaN     23.0     24.0    64.0    76.0   \n",
       "2015-11-13    574.0     True     NaN      5.0      9.0    13.0    21.0   \n",
       "2015-11-14      NaN     True     NaN      NaN      NaN     NaN     NaN   \n",
       "2015-12-07  35274.0     True     1.0    175.0    471.0  1157.0   896.0   \n",
       "2015-12-08  16491.0    False     NaN     38.0    107.0   595.0   394.0   \n",
       "\n",
       "            step_4  step_5  step_6  step_7  step_8  step_9  \n",
       "date                                                        \n",
       "2015-11-12    60.0    44.0    55.0    53.0    39.0    55.0  \n",
       "2015-11-13    20.0    14.0    14.0    12.0    11.0    18.0  \n",
       "2015-11-14     NaN     NaN     NaN     NaN     NaN     NaN  \n",
       "2015-12-07   687.0   624.0   478.0   450.0   430.0   454.0  \n",
       "2015-12-08   285.0   215.0   208.0   175.0   146.0   156.0  "
      ]
     },
     "execution_count": 25,
     "metadata": {},
     "output_type": "execute_result"
    }
   ],
   "source": [
    "df1 = pd.concat([df, scan_info], axis=1)\n",
    "df1.head()"
   ]
  },
  {
   "cell_type": "code",
   "execution_count": 26,
   "metadata": {
    "collapsed": false
   },
   "outputs": [
    {
     "data": {
      "image/png": "[encoded data removed]",
      "text/plain": [
       "<matplotlib.figure.Figure at 0x7f557067edd8>"
      ]
     },
     "metadata": {},
     "output_type": "display_data"
    }
   ],
   "source": [
    "steps = ['step_{}'.format(x+1) for x in range(11)]\n",
    "fig = plt.figure(figsize=(15,9))\n",
    "sns.boxplot(data=df1[steps])\n",
    "plt.title('PSMs per LC step')\n",
    "sns.despine();"
   ]
  },
  {
   "cell_type": "markdown",
   "metadata": {},
   "source": [
    "Nothing too revealing here.... lets just count how many steps have nothing at all"
   ]
  },
  {
   "cell_type": "code",
   "execution_count": 27,
   "metadata": {
    "collapsed": false
   },
   "outputs": [
    {
     "data": {
      "image/png": "[encoded data removed]",
      "text/plain": [
       "<matplotlib.figure.Figure at 0x7f557090e780>"
      ]
     },
     "metadata": {},
     "output_type": "display_data"
    }
   ],
   "source": [
    "# get rid of one's that didn't run as to not artifically inflate missing scans\n",
    "df1.dropna(subset=['psm'])[steps].count().plot(kind='bar')\n",
    "plt.title('Steps with at least 1 PSM sorted by LC step');"
   ]
  },
  {
   "cell_type": "code",
   "execution_count": 28,
   "metadata": {
    "collapsed": false
   },
   "outputs": [
    {
     "data": {
      "image/png": "[encoded data removed]",
      "text/plain": [
       "<matplotlib.figure.Figure at 0x7f557088ee48>"
      ]
     },
     "metadata": {},
     "output_type": "display_data"
    }
   ],
   "source": [
    "(df1['psm'].count() - df1.dropna(subset=['psm'])[steps].count()).plot(kind='bar');\n",
    "plt.title('LC Steps with 0 PSMs');"
   ]
  },
  {
   "cell_type": "markdown",
   "metadata": {},
   "source": [
    "Definitely more issues in the later salt steps.  The number for the first step is inflated becasue of the inline transfer samples.  Lets subtract those out.\n",
    "\n",
    "Furhther, having only 1 PSM does not make it a good LC step, let's set a minimum of 10 and look how many fail that threshold."
   ]
  },
  {
   "cell_type": "code",
   "execution_count": 29,
   "metadata": {
    "collapsed": false
   },
   "outputs": [
    {
     "data": {
      "text/html": [
       "<div>\n",
       "<table border=\"1\" class=\"dataframe\">\n",
       "  <thead>\n",
       "    <tr style=\"text-align: right;\">\n",
       "      <th></th>\n",
       "      <th>step_1</th>\n",
       "      <th>step_2</th>\n",
       "      <th>step_3</th>\n",
       "      <th>step_4</th>\n",
       "      <th>step_5</th>\n",
       "      <th>step_6</th>\n",
       "      <th>step_7</th>\n",
       "      <th>step_8</th>\n",
       "      <th>step_9</th>\n",
       "      <th>step_10</th>\n",
       "      <th>step_11</th>\n",
       "    </tr>\n",
       "    <tr>\n",
       "      <th>date</th>\n",
       "      <th></th>\n",
       "      <th></th>\n",
       "      <th></th>\n",
       "      <th></th>\n",
       "      <th></th>\n",
       "      <th></th>\n",
       "      <th></th>\n",
       "      <th></th>\n",
       "      <th></th>\n",
       "      <th></th>\n",
       "      <th></th>\n",
       "    </tr>\n",
       "  </thead>\n",
       "  <tbody>\n",
       "    <tr>\n",
       "      <th>2015-11-12</th>\n",
       "      <td>False</td>\n",
       "      <td>True</td>\n",
       "      <td>True</td>\n",
       "      <td>True</td>\n",
       "      <td>True</td>\n",
       "      <td>True</td>\n",
       "      <td>True</td>\n",
       "      <td>True</td>\n",
       "      <td>True</td>\n",
       "      <td>True</td>\n",
       "      <td>True</td>\n",
       "    </tr>\n",
       "    <tr>\n",
       "      <th>2015-11-13</th>\n",
       "      <td>False</td>\n",
       "      <td>True</td>\n",
       "      <td>True</td>\n",
       "      <td>True</td>\n",
       "      <td>True</td>\n",
       "      <td>True</td>\n",
       "      <td>True</td>\n",
       "      <td>True</td>\n",
       "      <td>True</td>\n",
       "      <td>False</td>\n",
       "      <td>False</td>\n",
       "    </tr>\n",
       "    <tr>\n",
       "      <th>2015-12-07</th>\n",
       "      <td>False</td>\n",
       "      <td>True</td>\n",
       "      <td>True</td>\n",
       "      <td>True</td>\n",
       "      <td>True</td>\n",
       "      <td>True</td>\n",
       "      <td>True</td>\n",
       "      <td>True</td>\n",
       "      <td>True</td>\n",
       "      <td>True</td>\n",
       "      <td>True</td>\n",
       "    </tr>\n",
       "    <tr>\n",
       "      <th>2015-12-08</th>\n",
       "      <td>False</td>\n",
       "      <td>True</td>\n",
       "      <td>True</td>\n",
       "      <td>True</td>\n",
       "      <td>True</td>\n",
       "      <td>True</td>\n",
       "      <td>True</td>\n",
       "      <td>True</td>\n",
       "      <td>True</td>\n",
       "      <td>True</td>\n",
       "      <td>True</td>\n",
       "    </tr>\n",
       "    <tr>\n",
       "      <th>2015-12-09</th>\n",
       "      <td>False</td>\n",
       "      <td>True</td>\n",
       "      <td>True</td>\n",
       "      <td>True</td>\n",
       "      <td>True</td>\n",
       "      <td>True</td>\n",
       "      <td>True</td>\n",
       "      <td>True</td>\n",
       "      <td>True</td>\n",
       "      <td>True</td>\n",
       "      <td>True</td>\n",
       "    </tr>\n",
       "  </tbody>\n",
       "</table>\n",
       "</div>"
      ],
      "text/plain": [
       "           step_1 step_2 step_3 step_4 step_5 step_6 step_7 step_8 step_9  \\\n",
       "date                                                                        \n",
       "2015-11-12  False   True   True   True   True   True   True   True   True   \n",
       "2015-11-13  False   True   True   True   True   True   True   True   True   \n",
       "2015-12-07  False   True   True   True   True   True   True   True   True   \n",
       "2015-12-08  False   True   True   True   True   True   True   True   True   \n",
       "2015-12-09  False   True   True   True   True   True   True   True   True   \n",
       "\n",
       "           step_10 step_11  \n",
       "date                        \n",
       "2015-11-12    True    True  \n",
       "2015-11-13   False   False  \n",
       "2015-12-07    True    True  \n",
       "2015-12-08    True    True  \n",
       "2015-12-09    True    True  "
      ]
     },
     "execution_count": 29,
     "metadata": {},
     "output_type": "execute_result"
    }
   ],
   "source": [
    "inline_samps = len(df1.loc[:change_date].dropna(subset=['psm']))\n",
    "\n",
    "# Start with good steps because any int comparison with np.nan returns False\n",
    "good_steps = df1.dropna(subset=['psm'])[steps] > 10 \n",
    "good_steps.head()"
   ]
  },
  {
   "cell_type": "code",
   "execution_count": 30,
   "metadata": {
    "collapsed": false
   },
   "outputs": [
    {
     "data": {
      "text/html": [
       "<div>\n",
       "<table border=\"1\" class=\"dataframe\">\n",
       "  <thead>\n",
       "    <tr style=\"text-align: right;\">\n",
       "      <th></th>\n",
       "      <th>step_1</th>\n",
       "      <th>step_2</th>\n",
       "      <th>step_3</th>\n",
       "      <th>step_4</th>\n",
       "      <th>step_5</th>\n",
       "      <th>step_6</th>\n",
       "      <th>step_7</th>\n",
       "      <th>step_8</th>\n",
       "      <th>step_9</th>\n",
       "      <th>step_10</th>\n",
       "      <th>step_11</th>\n",
       "    </tr>\n",
       "    <tr>\n",
       "      <th>date</th>\n",
       "      <th></th>\n",
       "      <th></th>\n",
       "      <th></th>\n",
       "      <th></th>\n",
       "      <th></th>\n",
       "      <th></th>\n",
       "      <th></th>\n",
       "      <th></th>\n",
       "      <th></th>\n",
       "      <th></th>\n",
       "      <th></th>\n",
       "    </tr>\n",
       "  </thead>\n",
       "  <tbody>\n",
       "    <tr>\n",
       "      <th>2015-11-12</th>\n",
       "      <td>True</td>\n",
       "      <td>False</td>\n",
       "      <td>False</td>\n",
       "      <td>False</td>\n",
       "      <td>False</td>\n",
       "      <td>False</td>\n",
       "      <td>False</td>\n",
       "      <td>False</td>\n",
       "      <td>False</td>\n",
       "      <td>False</td>\n",
       "      <td>False</td>\n",
       "    </tr>\n",
       "    <tr>\n",
       "      <th>2015-11-13</th>\n",
       "      <td>True</td>\n",
       "      <td>False</td>\n",
       "      <td>False</td>\n",
       "      <td>False</td>\n",
       "      <td>False</td>\n",
       "      <td>False</td>\n",
       "      <td>False</td>\n",
       "      <td>False</td>\n",
       "      <td>False</td>\n",
       "      <td>True</td>\n",
       "      <td>True</td>\n",
       "    </tr>\n",
       "    <tr>\n",
       "      <th>2015-12-07</th>\n",
       "      <td>True</td>\n",
       "      <td>False</td>\n",
       "      <td>False</td>\n",
       "      <td>False</td>\n",
       "      <td>False</td>\n",
       "      <td>False</td>\n",
       "      <td>False</td>\n",
       "      <td>False</td>\n",
       "      <td>False</td>\n",
       "      <td>False</td>\n",
       "      <td>False</td>\n",
       "    </tr>\n",
       "    <tr>\n",
       "      <th>2015-12-08</th>\n",
       "      <td>True</td>\n",
       "      <td>False</td>\n",
       "      <td>False</td>\n",
       "      <td>False</td>\n",
       "      <td>False</td>\n",
       "      <td>False</td>\n",
       "      <td>False</td>\n",
       "      <td>False</td>\n",
       "      <td>False</td>\n",
       "      <td>False</td>\n",
       "      <td>False</td>\n",
       "    </tr>\n",
       "    <tr>\n",
       "      <th>2015-12-09</th>\n",
       "      <td>True</td>\n",
       "      <td>False</td>\n",
       "      <td>False</td>\n",
       "      <td>False</td>\n",
       "      <td>False</td>\n",
       "      <td>False</td>\n",
       "      <td>False</td>\n",
       "      <td>False</td>\n",
       "      <td>False</td>\n",
       "      <td>False</td>\n",
       "      <td>False</td>\n",
       "    </tr>\n",
       "  </tbody>\n",
       "</table>\n",
       "</div>"
      ],
      "text/plain": [
       "           step_1 step_2 step_3 step_4 step_5 step_6 step_7 step_8 step_9  \\\n",
       "date                                                                        \n",
       "2015-11-12   True  False  False  False  False  False  False  False  False   \n",
       "2015-11-13   True  False  False  False  False  False  False  False  False   \n",
       "2015-12-07   True  False  False  False  False  False  False  False  False   \n",
       "2015-12-08   True  False  False  False  False  False  False  False  False   \n",
       "2015-12-09   True  False  False  False  False  False  False  False  False   \n",
       "\n",
       "           step_10 step_11  \n",
       "date                        \n",
       "2015-11-12   False   False  \n",
       "2015-11-13    True    True  \n",
       "2015-12-07   False   False  \n",
       "2015-12-08   False   False  \n",
       "2015-12-09   False   False  "
      ]
     },
     "execution_count": 30,
     "metadata": {},
     "output_type": "execute_result"
    }
   ],
   "source": [
    "poor_steps = ~good_steps\n",
    "poor_steps.head()"
   ]
  },
  {
   "cell_type": "code",
   "execution_count": 31,
   "metadata": {
    "collapsed": false
   },
   "outputs": [
    {
     "data": {
      "image/png": "[encoded data removed]",
      "text/plain": [
       "<matplotlib.figure.Figure at 0x7f55708a60b8>"
      ]
     },
     "metadata": {},
     "output_type": "display_data"
    }
   ],
   "source": [
    "summed = poor_steps[steps].sum()\n",
    "summed['step_1'] = summed['step_1'] - inline_samps\n",
    "\n",
    "plt.figure(figsize=(15,9))\n",
    "summed.plot(kind='bar');\n",
    "plt.title('Number of runs with Low PSMs by LC Step');"
   ]
  },
  {
   "cell_type": "markdown",
   "metadata": {},
   "source": [
    "Definitely the later steps that seem to produce the most problems"
   ]
  },
  {
   "cell_type": "code",
   "execution_count": null,
   "metadata": {
    "collapsed": true
   },
   "outputs": [],
   "source": []
  },
  {
   "cell_type": "code",
   "execution_count": 32,
   "metadata": {
    "collapsed": false
   },
   "outputs": [],
   "source": [
    "before_change = df1.dropna(subset=['psm']).loc[:change_date]\n",
    "after_change = df1.dropna(subset=['psm']).loc[change_date:]"
   ]
  },
  {
   "cell_type": "markdown",
   "metadata": {},
   "source": [
    "First we'll look at after making the change to on-bomb loading.  We'll start by ones that that had less than 11 good LC Steps.  These should all be classified as False by under the characteristic 'good_run'"
   ]
  },
  {
   "cell_type": "code",
   "execution_count": 33,
   "metadata": {
    "collapsed": false
   },
   "outputs": [
    {
     "data": {
      "text/plain": [
       "date\n",
       "2016-02-16    False\n",
       "2016-02-22    False\n",
       "2016-02-23    False\n",
       "2016-03-12    False\n",
       "2016-03-19    False\n",
       "2016-03-20    False\n",
       "2016-04-02    False\n",
       "2016-04-03    False\n",
       "2016-04-10    False\n",
       "2016-04-11    False\n",
       "2016-04-12    False\n",
       "2016-05-06    False\n",
       "2016-05-07    False\n",
       "2016-05-08    False\n",
       "2016-05-28    False\n",
       "Name: good_run, dtype: bool"
      ]
     },
     "execution_count": 33,
     "metadata": {},
     "output_type": "execute_result"
    }
   ],
   "source": [
    "after_change[good_steps.loc[change_date:].sum(axis=1) < 11]['good_run']"
   ]
  },
  {
   "cell_type": "markdown",
   "metadata": {},
   "source": [
    "All are in agreement, so no need to look at anything here\n",
    "\n",
    "Next look at the ones that had 11 good LC steps, and see if the run was good."
   ]
  },
  {
   "cell_type": "code",
   "execution_count": 34,
   "metadata": {
    "collapsed": false
   },
   "outputs": [
    {
     "data": {
      "text/plain": [
       "date\n",
       "2016-02-18     True\n",
       "2016-02-19     True\n",
       "2016-02-20     True\n",
       "2016-03-31     True\n",
       "2016-04-09     True\n",
       "2016-05-09     True\n",
       "2016-05-29    False\n",
       "Name: good_run, dtype: bool"
      ]
     },
     "execution_count": 34,
     "metadata": {},
     "output_type": "execute_result"
    }
   ],
   "source": [
    "dat = after_change[good_steps.loc[change_date:].sum(axis=1) > 10]\n",
    "idxs = after_change[good_steps.loc[change_date:].sum(axis=1) > 10]['good_run']\n",
    "idxs"
   ]
  },
  {
   "cell_type": "markdown",
   "metadata": {},
   "source": [
    "Let's take a look at which one didn't pass the test and find out why"
   ]
  },
  {
   "cell_type": "code",
   "execution_count": 35,
   "metadata": {
    "collapsed": false
   },
   "outputs": [
    {
     "data": {
      "text/html": [
       "<div>\n",
       "<table border=\"1\" class=\"dataframe\">\n",
       "  <thead>\n",
       "    <tr style=\"text-align: right;\">\n",
       "      <th></th>\n",
       "      <th>run</th>\n",
       "      <th>scans</th>\n",
       "      <th>protein</th>\n",
       "      <th>peptide</th>\n",
       "      <th>psm</th>\n",
       "      <th>good_run</th>\n",
       "      <th>step_1</th>\n",
       "      <th>step_10</th>\n",
       "      <th>step_11</th>\n",
       "      <th>step_2</th>\n",
       "      <th>step_3</th>\n",
       "      <th>step_4</th>\n",
       "      <th>step_5</th>\n",
       "      <th>step_6</th>\n",
       "      <th>step_7</th>\n",
       "      <th>step_8</th>\n",
       "      <th>step_9</th>\n",
       "    </tr>\n",
       "    <tr>\n",
       "      <th>date</th>\n",
       "      <th></th>\n",
       "      <th></th>\n",
       "      <th></th>\n",
       "      <th></th>\n",
       "      <th></th>\n",
       "      <th></th>\n",
       "      <th></th>\n",
       "      <th></th>\n",
       "      <th></th>\n",
       "      <th></th>\n",
       "      <th></th>\n",
       "      <th></th>\n",
       "      <th></th>\n",
       "      <th></th>\n",
       "      <th></th>\n",
       "      <th></th>\n",
       "      <th></th>\n",
       "    </tr>\n",
       "  </thead>\n",
       "  <tbody>\n",
       "    <tr>\n",
       "      <th>2016-05-29</th>\n",
       "      <td>20160529-DMSO-Lys-N14N15-Pool/</td>\n",
       "      <td>169222.0</td>\n",
       "      <td>165.0</td>\n",
       "      <td>579.0</td>\n",
       "      <td>3551.0</td>\n",
       "      <td>False</td>\n",
       "      <td>120.0</td>\n",
       "      <td>17.0</td>\n",
       "      <td>53.0</td>\n",
       "      <td>106.0</td>\n",
       "      <td>59.0</td>\n",
       "      <td>64.0</td>\n",
       "      <td>30.0</td>\n",
       "      <td>40.0</td>\n",
       "      <td>24.0</td>\n",
       "      <td>23.0</td>\n",
       "      <td>27.0</td>\n",
       "    </tr>\n",
       "  </tbody>\n",
       "</table>\n",
       "</div>"
      ],
      "text/plain": [
       "                                       run     scans  protein  peptide  \\\n",
       "date                                                                     \n",
       "2016-05-29  20160529-DMSO-Lys-N14N15-Pool/  169222.0    165.0    579.0   \n",
       "\n",
       "               psm good_run  step_1  step_10  step_11  step_2  step_3  step_4  \\\n",
       "date                                                                            \n",
       "2016-05-29  3551.0    False   120.0     17.0     53.0   106.0    59.0    64.0   \n",
       "\n",
       "            step_5  step_6  step_7  step_8  step_9  \n",
       "date                                                \n",
       "2016-05-29    30.0    40.0    24.0    23.0    27.0  "
      ]
     },
     "execution_count": 35,
     "metadata": {},
     "output_type": "execute_result"
    }
   ],
   "source": [
    "dat[~idxs]"
   ]
  },
  {
   "cell_type": "markdown",
   "metadata": {},
   "source": [
    "This run had a really wonky calibration issues, therefore needed some heavy editing even to get good data.  It's not surprising that although there were psm's througout, the scan number was short of the threshold for a good run.\n",
    "\n",
    "Now do the same for the samples before chaning to on-bomb transfers.  These will only have a max of 10 good LC steps."
   ]
  },
  {
   "cell_type": "code",
   "execution_count": 36,
   "metadata": {
    "collapsed": false
   },
   "outputs": [
    {
     "data": {
      "text/plain": [
       "date\n",
       "2015-11-13     True\n",
       "2015-12-13    False\n",
       "2015-12-14    False\n",
       "2016-01-26    False\n",
       "2016-02-16    False\n",
       "Name: good_run, dtype: bool"
      ]
     },
     "execution_count": 36,
     "metadata": {},
     "output_type": "execute_result"
    }
   ],
   "source": [
    "dat = before_change[good_steps.loc[:change_date].sum(axis=1) < 10] \n",
    "idxs = before_change[good_steps.loc[:change_date].sum(axis=1) < 10]['good_run']\n",
    "idxs"
   ]
  },
  {
   "cell_type": "code",
   "execution_count": 37,
   "metadata": {
    "collapsed": false
   },
   "outputs": [
    {
     "data": {
      "text/html": [
       "<div>\n",
       "<table border=\"1\" class=\"dataframe\">\n",
       "  <thead>\n",
       "    <tr style=\"text-align: right;\">\n",
       "      <th></th>\n",
       "      <th>run</th>\n",
       "      <th>scans</th>\n",
       "      <th>protein</th>\n",
       "      <th>peptide</th>\n",
       "      <th>psm</th>\n",
       "      <th>good_run</th>\n",
       "      <th>step_1</th>\n",
       "      <th>step_10</th>\n",
       "      <th>step_11</th>\n",
       "      <th>step_2</th>\n",
       "      <th>step_3</th>\n",
       "      <th>step_4</th>\n",
       "      <th>step_5</th>\n",
       "      <th>step_6</th>\n",
       "      <th>step_7</th>\n",
       "      <th>step_8</th>\n",
       "      <th>step_9</th>\n",
       "    </tr>\n",
       "    <tr>\n",
       "      <th>date</th>\n",
       "      <th></th>\n",
       "      <th></th>\n",
       "      <th></th>\n",
       "      <th></th>\n",
       "      <th></th>\n",
       "      <th></th>\n",
       "      <th></th>\n",
       "      <th></th>\n",
       "      <th></th>\n",
       "      <th></th>\n",
       "      <th></th>\n",
       "      <th></th>\n",
       "      <th></th>\n",
       "      <th></th>\n",
       "      <th></th>\n",
       "      <th></th>\n",
       "      <th></th>\n",
       "    </tr>\n",
       "  </thead>\n",
       "  <tbody>\n",
       "    <tr>\n",
       "      <th>2015-11-13</th>\n",
       "      <td>20151113-UnerFecal-Lys-N15-1019/</td>\n",
       "      <td>185067.0</td>\n",
       "      <td>49.0</td>\n",
       "      <td>146.0</td>\n",
       "      <td>574.0</td>\n",
       "      <td>True</td>\n",
       "      <td>NaN</td>\n",
       "      <td>5.0</td>\n",
       "      <td>9.0</td>\n",
       "      <td>13.0</td>\n",
       "      <td>21.0</td>\n",
       "      <td>20.0</td>\n",
       "      <td>14.0</td>\n",
       "      <td>14.0</td>\n",
       "      <td>12.0</td>\n",
       "      <td>11.0</td>\n",
       "      <td>18.0</td>\n",
       "    </tr>\n",
       "  </tbody>\n",
       "</table>\n",
       "</div>"
      ],
      "text/plain": [
       "                                         run     scans  protein  peptide  \\\n",
       "date                                                                       \n",
       "2015-11-13  20151113-UnerFecal-Lys-N15-1019/  185067.0     49.0    146.0   \n",
       "\n",
       "              psm good_run  step_1  step_10  step_11  step_2  step_3  step_4  \\\n",
       "date                                                                           \n",
       "2015-11-13  574.0     True     NaN      5.0      9.0    13.0    21.0    20.0   \n",
       "\n",
       "            step_5  step_6  step_7  step_8  step_9  \n",
       "date                                                \n",
       "2015-11-13    14.0    14.0    12.0    11.0    18.0  "
      ]
     },
     "execution_count": 37,
     "metadata": {},
     "output_type": "execute_result"
    }
   ],
   "source": [
    "dat[idxs]"
   ]
  },
  {
   "cell_type": "markdown",
   "metadata": {},
   "source": [
    "This one was an N15 only sample from early in the series, before all the n15 enrichment was above 90%.  This makes sense as to why there are such low PSMs when the scans are so high.\n",
    "\n",
    "Moving on to the next set."
   ]
  },
  {
   "cell_type": "code",
   "execution_count": 38,
   "metadata": {
    "collapsed": false
   },
   "outputs": [
    {
     "data": {
      "text/plain": [
       "date\n",
       "2015-11-12     True\n",
       "2015-12-07     True\n",
       "2015-12-08    False\n",
       "2015-12-09    False\n",
       "2015-12-10     True\n",
       "2015-12-11     True\n",
       "2015-12-12    False\n",
       "2016-01-22     True\n",
       "2016-01-24    False\n",
       "2016-01-25    False\n",
       "2016-01-27    False\n",
       "2016-01-29     True\n",
       "Name: good_run, dtype: bool"
      ]
     },
     "execution_count": 38,
     "metadata": {},
     "output_type": "execute_result"
    }
   ],
   "source": [
    "dat = before_change[good_steps.loc[:change_date].sum(axis=1) > 9] \n",
    "idxs = before_change[good_steps.loc[:change_date].sum(axis=1) > 9]['good_run']\n",
    "idxs"
   ]
  },
  {
   "cell_type": "markdown",
   "metadata": {},
   "source": [
    "A lot of disagreement here... they should all be true at this point.  Lets take a closer look at the ones that returned False and see if there's anything that can explain this."
   ]
  },
  {
   "cell_type": "code",
   "execution_count": 39,
   "metadata": {
    "collapsed": false,
    "scrolled": false
   },
   "outputs": [
    {
     "data": {
      "text/html": [
       "<div>\n",
       "<table border=\"1\" class=\"dataframe\">\n",
       "  <thead>\n",
       "    <tr style=\"text-align: right;\">\n",
       "      <th></th>\n",
       "      <th>run</th>\n",
       "      <th>scans</th>\n",
       "      <th>protein</th>\n",
       "      <th>peptide</th>\n",
       "      <th>psm</th>\n",
       "      <th>good_run</th>\n",
       "      <th>step_1</th>\n",
       "      <th>step_10</th>\n",
       "      <th>step_11</th>\n",
       "      <th>step_2</th>\n",
       "      <th>step_3</th>\n",
       "      <th>step_4</th>\n",
       "      <th>step_5</th>\n",
       "      <th>step_6</th>\n",
       "      <th>step_7</th>\n",
       "      <th>step_8</th>\n",
       "      <th>step_9</th>\n",
       "    </tr>\n",
       "    <tr>\n",
       "      <th>date</th>\n",
       "      <th></th>\n",
       "      <th></th>\n",
       "      <th></th>\n",
       "      <th></th>\n",
       "      <th></th>\n",
       "      <th></th>\n",
       "      <th></th>\n",
       "      <th></th>\n",
       "      <th></th>\n",
       "      <th></th>\n",
       "      <th></th>\n",
       "      <th></th>\n",
       "      <th></th>\n",
       "      <th></th>\n",
       "      <th></th>\n",
       "      <th></th>\n",
       "      <th></th>\n",
       "    </tr>\n",
       "  </thead>\n",
       "  <tbody>\n",
       "    <tr>\n",
       "      <th>2015-12-08</th>\n",
       "      <td>20151208-UnerFecal-Lys-N14N15-1019/</td>\n",
       "      <td>143048.0</td>\n",
       "      <td>1015.0</td>\n",
       "      <td>2377.0</td>\n",
       "      <td>16491.0</td>\n",
       "      <td>False</td>\n",
       "      <td>NaN</td>\n",
       "      <td>38.0</td>\n",
       "      <td>107.0</td>\n",
       "      <td>595.0</td>\n",
       "      <td>394.0</td>\n",
       "      <td>285.0</td>\n",
       "      <td>215.0</td>\n",
       "      <td>208.0</td>\n",
       "      <td>175.0</td>\n",
       "      <td>146.0</td>\n",
       "      <td>156.0</td>\n",
       "    </tr>\n",
       "    <tr>\n",
       "      <th>2015-12-09</th>\n",
       "      <td>20151209-UnerFecal-Lys-N14N15-1016/</td>\n",
       "      <td>155717.0</td>\n",
       "      <td>3322.0</td>\n",
       "      <td>5507.0</td>\n",
       "      <td>32419.0</td>\n",
       "      <td>False</td>\n",
       "      <td>1.0</td>\n",
       "      <td>321.0</td>\n",
       "      <td>270.0</td>\n",
       "      <td>1118.0</td>\n",
       "      <td>784.0</td>\n",
       "      <td>575.0</td>\n",
       "      <td>567.0</td>\n",
       "      <td>465.0</td>\n",
       "      <td>397.0</td>\n",
       "      <td>370.0</td>\n",
       "      <td>580.0</td>\n",
       "    </tr>\n",
       "    <tr>\n",
       "      <th>2015-12-12</th>\n",
       "      <td>20151212-UnerFecal-Sup-N14N15-1016/</td>\n",
       "      <td>149768.0</td>\n",
       "      <td>325.0</td>\n",
       "      <td>1648.0</td>\n",
       "      <td>18465.0</td>\n",
       "      <td>False</td>\n",
       "      <td>NaN</td>\n",
       "      <td>132.0</td>\n",
       "      <td>145.0</td>\n",
       "      <td>296.0</td>\n",
       "      <td>229.0</td>\n",
       "      <td>170.0</td>\n",
       "      <td>112.0</td>\n",
       "      <td>126.0</td>\n",
       "      <td>108.0</td>\n",
       "      <td>123.0</td>\n",
       "      <td>136.0</td>\n",
       "    </tr>\n",
       "    <tr>\n",
       "      <th>2016-01-24</th>\n",
       "      <td>20160124-AOMKFecal-Lys-N14N15-1120/</td>\n",
       "      <td>152915.0</td>\n",
       "      <td>264.0</td>\n",
       "      <td>944.0</td>\n",
       "      <td>9241.0</td>\n",
       "      <td>False</td>\n",
       "      <td>NaN</td>\n",
       "      <td>81.0</td>\n",
       "      <td>78.0</td>\n",
       "      <td>200.0</td>\n",
       "      <td>144.0</td>\n",
       "      <td>83.0</td>\n",
       "      <td>69.0</td>\n",
       "      <td>65.0</td>\n",
       "      <td>68.0</td>\n",
       "      <td>56.0</td>\n",
       "      <td>71.0</td>\n",
       "    </tr>\n",
       "    <tr>\n",
       "      <th>2016-01-25</th>\n",
       "      <td>20160125-CMKFecal-Lys-N14N15-1120/</td>\n",
       "      <td>150462.0</td>\n",
       "      <td>1069.0</td>\n",
       "      <td>2578.0</td>\n",
       "      <td>18097.0</td>\n",
       "      <td>False</td>\n",
       "      <td>NaN</td>\n",
       "      <td>99.0</td>\n",
       "      <td>76.0</td>\n",
       "      <td>512.0</td>\n",
       "      <td>352.0</td>\n",
       "      <td>241.0</td>\n",
       "      <td>256.0</td>\n",
       "      <td>295.0</td>\n",
       "      <td>228.0</td>\n",
       "      <td>218.0</td>\n",
       "      <td>232.0</td>\n",
       "    </tr>\n",
       "    <tr>\n",
       "      <th>2016-01-27</th>\n",
       "      <td>20160127-UnerFecal-Lys-N14N15-1121/</td>\n",
       "      <td>113936.0</td>\n",
       "      <td>441.0</td>\n",
       "      <td>1396.0</td>\n",
       "      <td>13090.0</td>\n",
       "      <td>False</td>\n",
       "      <td>NaN</td>\n",
       "      <td>31.0</td>\n",
       "      <td>37.0</td>\n",
       "      <td>188.0</td>\n",
       "      <td>340.0</td>\n",
       "      <td>279.0</td>\n",
       "      <td>45.0</td>\n",
       "      <td>93.0</td>\n",
       "      <td>104.0</td>\n",
       "      <td>118.0</td>\n",
       "      <td>68.0</td>\n",
       "    </tr>\n",
       "  </tbody>\n",
       "</table>\n",
       "</div>"
      ],
      "text/plain": [
       "                                            run     scans  protein  peptide  \\\n",
       "date                                                                          \n",
       "2015-12-08  20151208-UnerFecal-Lys-N14N15-1019/  143048.0   1015.0   2377.0   \n",
       "2015-12-09  20151209-UnerFecal-Lys-N14N15-1016/  155717.0   3322.0   5507.0   \n",
       "2015-12-12  20151212-UnerFecal-Sup-N14N15-1016/  149768.0    325.0   1648.0   \n",
       "2016-01-24  20160124-AOMKFecal-Lys-N14N15-1120/  152915.0    264.0    944.0   \n",
       "2016-01-25   20160125-CMKFecal-Lys-N14N15-1120/  150462.0   1069.0   2578.0   \n",
       "2016-01-27  20160127-UnerFecal-Lys-N14N15-1121/  113936.0    441.0   1396.0   \n",
       "\n",
       "                psm good_run  step_1  step_10  step_11  step_2  step_3  \\\n",
       "date                                                                     \n",
       "2015-12-08  16491.0    False     NaN     38.0    107.0   595.0   394.0   \n",
       "2015-12-09  32419.0    False     1.0    321.0    270.0  1118.0   784.0   \n",
       "2015-12-12  18465.0    False     NaN    132.0    145.0   296.0   229.0   \n",
       "2016-01-24   9241.0    False     NaN     81.0     78.0   200.0   144.0   \n",
       "2016-01-25  18097.0    False     NaN     99.0     76.0   512.0   352.0   \n",
       "2016-01-27  13090.0    False     NaN     31.0     37.0   188.0   340.0   \n",
       "\n",
       "            step_4  step_5  step_6  step_7  step_8  step_9  \n",
       "date                                                        \n",
       "2015-12-08   285.0   215.0   208.0   175.0   146.0   156.0  \n",
       "2015-12-09   575.0   567.0   465.0   397.0   370.0   580.0  \n",
       "2015-12-12   170.0   112.0   126.0   108.0   123.0   136.0  \n",
       "2016-01-24    83.0    69.0    65.0    68.0    56.0    71.0  \n",
       "2016-01-25   241.0   256.0   295.0   228.0   218.0   232.0  \n",
       "2016-01-27   279.0    45.0    93.0   104.0   118.0    68.0  "
      ]
     },
     "execution_count": 39,
     "metadata": {},
     "output_type": "execute_result"
    }
   ],
   "source": [
    "dat[~idxs]"
   ]
  },
  {
   "cell_type": "markdown",
   "metadata": {},
   "source": [
    "There's really nothing to explain this... All with the exception of the run on 2016-01-27 (and maybe 2015-12-08) look like they could be good runs.  I may need to relax the parameters for a 'good run' on samples with on-line transfer to around > 149,500 or so."
   ]
  },
  {
   "cell_type": "code",
   "execution_count": 40,
   "metadata": {
    "collapsed": true
   },
   "outputs": [],
   "source": [
    "min_scans_transfer = good_scans_transfer * .85\n",
    "\n",
    "df1.loc[:change_date, 'good_run'] = df1.loc[:change_date, 'scans'] > min_scans_transfer"
   ]
  },
  {
   "cell_type": "code",
   "execution_count": 41,
   "metadata": {
    "collapsed": false
   },
   "outputs": [
    {
     "data": {
      "text/plain": [
       "date\n",
       "2015-11-13     True\n",
       "2015-12-13    False\n",
       "2015-12-14    False\n",
       "2016-01-26    False\n",
       "2016-02-16     True\n",
       "Name: good_run, dtype: bool"
      ]
     },
     "execution_count": 41,
     "metadata": {},
     "output_type": "execute_result"
    }
   ],
   "source": [
    "before_change = df1.dropna(subset=['psm']).loc[:change_date]\n",
    "after_change = df1.dropna(subset=['psm']).loc[change_date:]\n",
    "\n",
    "dat = before_change[good_steps.loc[:change_date].sum(axis=1) < 10] \n",
    "idxs = before_change[good_steps.loc[:change_date].sum(axis=1) < 10]['good_run']\n",
    "idxs"
   ]
  },
  {
   "cell_type": "code",
   "execution_count": 42,
   "metadata": {
    "collapsed": false
   },
   "outputs": [
    {
     "data": {
      "text/html": [
       "<div>\n",
       "<table border=\"1\" class=\"dataframe\">\n",
       "  <thead>\n",
       "    <tr style=\"text-align: right;\">\n",
       "      <th></th>\n",
       "      <th>run</th>\n",
       "      <th>scans</th>\n",
       "      <th>protein</th>\n",
       "      <th>peptide</th>\n",
       "      <th>psm</th>\n",
       "      <th>good_run</th>\n",
       "      <th>step_1</th>\n",
       "      <th>step_10</th>\n",
       "      <th>step_11</th>\n",
       "      <th>step_2</th>\n",
       "      <th>step_3</th>\n",
       "      <th>step_4</th>\n",
       "      <th>step_5</th>\n",
       "      <th>step_6</th>\n",
       "      <th>step_7</th>\n",
       "      <th>step_8</th>\n",
       "      <th>step_9</th>\n",
       "    </tr>\n",
       "    <tr>\n",
       "      <th>date</th>\n",
       "      <th></th>\n",
       "      <th></th>\n",
       "      <th></th>\n",
       "      <th></th>\n",
       "      <th></th>\n",
       "      <th></th>\n",
       "      <th></th>\n",
       "      <th></th>\n",
       "      <th></th>\n",
       "      <th></th>\n",
       "      <th></th>\n",
       "      <th></th>\n",
       "      <th></th>\n",
       "      <th></th>\n",
       "      <th></th>\n",
       "      <th></th>\n",
       "      <th></th>\n",
       "    </tr>\n",
       "  </thead>\n",
       "  <tbody>\n",
       "    <tr>\n",
       "      <th>2015-11-13</th>\n",
       "      <td>20151113-UnerFecal-Lys-N15-1019/</td>\n",
       "      <td>185067.0</td>\n",
       "      <td>49.0</td>\n",
       "      <td>146.0</td>\n",
       "      <td>574.0</td>\n",
       "      <td>True</td>\n",
       "      <td>NaN</td>\n",
       "      <td>5.0</td>\n",
       "      <td>9.0</td>\n",
       "      <td>13.0</td>\n",
       "      <td>21.0</td>\n",
       "      <td>20.0</td>\n",
       "      <td>14.0</td>\n",
       "      <td>14.0</td>\n",
       "      <td>12.0</td>\n",
       "      <td>11.0</td>\n",
       "      <td>18.0</td>\n",
       "    </tr>\n",
       "    <tr>\n",
       "      <th>2016-02-16</th>\n",
       "      <td>20160216-UnerFecal-Lys-N14N15-1111/</td>\n",
       "      <td>163682.0</td>\n",
       "      <td>412.0</td>\n",
       "      <td>1643.0</td>\n",
       "      <td>16940.0</td>\n",
       "      <td>True</td>\n",
       "      <td>NaN</td>\n",
       "      <td>149.0</td>\n",
       "      <td>53.0</td>\n",
       "      <td>NaN</td>\n",
       "      <td>372.0</td>\n",
       "      <td>271.0</td>\n",
       "      <td>216.0</td>\n",
       "      <td>139.0</td>\n",
       "      <td>147.0</td>\n",
       "      <td>104.0</td>\n",
       "      <td>127.0</td>\n",
       "    </tr>\n",
       "  </tbody>\n",
       "</table>\n",
       "</div>"
      ],
      "text/plain": [
       "                                            run     scans  protein  peptide  \\\n",
       "date                                                                          \n",
       "2015-11-13     20151113-UnerFecal-Lys-N15-1019/  185067.0     49.0    146.0   \n",
       "2016-02-16  20160216-UnerFecal-Lys-N14N15-1111/  163682.0    412.0   1643.0   \n",
       "\n",
       "                psm good_run  step_1  step_10  step_11  step_2  step_3  \\\n",
       "date                                                                     \n",
       "2015-11-13    574.0     True     NaN      5.0      9.0    13.0    21.0   \n",
       "2016-02-16  16940.0     True     NaN    149.0     53.0     NaN   372.0   \n",
       "\n",
       "            step_4  step_5  step_6  step_7  step_8  step_9  \n",
       "date                                                        \n",
       "2015-11-13    20.0    14.0    14.0    12.0    11.0    18.0  \n",
       "2016-02-16   271.0   216.0   139.0   147.0   104.0   127.0  "
      ]
     },
     "execution_count": 42,
     "metadata": {},
     "output_type": "execute_result"
    }
   ],
   "source": [
    "dat[idxs]"
   ]
  },
  {
   "cell_type": "code",
   "execution_count": 43,
   "metadata": {
    "collapsed": false
   },
   "outputs": [
    {
     "data": {
      "text/plain": [
       "date\n",
       "2015-11-12     True\n",
       "2015-12-07     True\n",
       "2015-12-08    False\n",
       "2015-12-09     True\n",
       "2015-12-10     True\n",
       "2015-12-11     True\n",
       "2015-12-12     True\n",
       "2016-01-22     True\n",
       "2016-01-24     True\n",
       "2016-01-25     True\n",
       "2016-01-27    False\n",
       "2016-01-29     True\n",
       "Name: good_run, dtype: bool"
      ]
     },
     "execution_count": 43,
     "metadata": {},
     "output_type": "execute_result"
    }
   ],
   "source": [
    "dat = before_change[good_steps.loc[:change_date].sum(axis=1) > 9] \n",
    "idxs = before_change[good_steps.loc[:change_date].sum(axis=1) > 9]['good_run']\n",
    "idxs"
   ]
  },
  {
   "cell_type": "code",
   "execution_count": 44,
   "metadata": {
    "collapsed": false
   },
   "outputs": [
    {
     "data": {
      "text/html": [
       "<div>\n",
       "<table border=\"1\" class=\"dataframe\">\n",
       "  <thead>\n",
       "    <tr style=\"text-align: right;\">\n",
       "      <th></th>\n",
       "      <th>run</th>\n",
       "      <th>scans</th>\n",
       "      <th>protein</th>\n",
       "      <th>peptide</th>\n",
       "      <th>psm</th>\n",
       "      <th>good_run</th>\n",
       "      <th>step_1</th>\n",
       "      <th>step_10</th>\n",
       "      <th>step_11</th>\n",
       "      <th>step_2</th>\n",
       "      <th>step_3</th>\n",
       "      <th>step_4</th>\n",
       "      <th>step_5</th>\n",
       "      <th>step_6</th>\n",
       "      <th>step_7</th>\n",
       "      <th>step_8</th>\n",
       "      <th>step_9</th>\n",
       "    </tr>\n",
       "    <tr>\n",
       "      <th>date</th>\n",
       "      <th></th>\n",
       "      <th></th>\n",
       "      <th></th>\n",
       "      <th></th>\n",
       "      <th></th>\n",
       "      <th></th>\n",
       "      <th></th>\n",
       "      <th></th>\n",
       "      <th></th>\n",
       "      <th></th>\n",
       "      <th></th>\n",
       "      <th></th>\n",
       "      <th></th>\n",
       "      <th></th>\n",
       "      <th></th>\n",
       "      <th></th>\n",
       "      <th></th>\n",
       "    </tr>\n",
       "  </thead>\n",
       "  <tbody>\n",
       "    <tr>\n",
       "      <th>2015-12-08</th>\n",
       "      <td>20151208-UnerFecal-Lys-N14N15-1019/</td>\n",
       "      <td>143048.0</td>\n",
       "      <td>1015.0</td>\n",
       "      <td>2377.0</td>\n",
       "      <td>16491.0</td>\n",
       "      <td>False</td>\n",
       "      <td>NaN</td>\n",
       "      <td>38.0</td>\n",
       "      <td>107.0</td>\n",
       "      <td>595.0</td>\n",
       "      <td>394.0</td>\n",
       "      <td>285.0</td>\n",
       "      <td>215.0</td>\n",
       "      <td>208.0</td>\n",
       "      <td>175.0</td>\n",
       "      <td>146.0</td>\n",
       "      <td>156.0</td>\n",
       "    </tr>\n",
       "    <tr>\n",
       "      <th>2016-01-27</th>\n",
       "      <td>20160127-UnerFecal-Lys-N14N15-1121/</td>\n",
       "      <td>113936.0</td>\n",
       "      <td>441.0</td>\n",
       "      <td>1396.0</td>\n",
       "      <td>13090.0</td>\n",
       "      <td>False</td>\n",
       "      <td>NaN</td>\n",
       "      <td>31.0</td>\n",
       "      <td>37.0</td>\n",
       "      <td>188.0</td>\n",
       "      <td>340.0</td>\n",
       "      <td>279.0</td>\n",
       "      <td>45.0</td>\n",
       "      <td>93.0</td>\n",
       "      <td>104.0</td>\n",
       "      <td>118.0</td>\n",
       "      <td>68.0</td>\n",
       "    </tr>\n",
       "  </tbody>\n",
       "</table>\n",
       "</div>"
      ],
      "text/plain": [
       "                                            run     scans  protein  peptide  \\\n",
       "date                                                                          \n",
       "2015-12-08  20151208-UnerFecal-Lys-N14N15-1019/  143048.0   1015.0   2377.0   \n",
       "2016-01-27  20160127-UnerFecal-Lys-N14N15-1121/  113936.0    441.0   1396.0   \n",
       "\n",
       "                psm good_run  step_1  step_10  step_11  step_2  step_3  \\\n",
       "date                                                                     \n",
       "2015-12-08  16491.0    False     NaN     38.0    107.0   595.0   394.0   \n",
       "2016-01-27  13090.0    False     NaN     31.0     37.0   188.0   340.0   \n",
       "\n",
       "            step_4  step_5  step_6  step_7  step_8  step_9  \n",
       "date                                                        \n",
       "2015-12-08   285.0   215.0   208.0   175.0   146.0   156.0  \n",
       "2016-01-27   279.0    45.0    93.0   104.0   118.0    68.0  "
      ]
     },
     "execution_count": 44,
     "metadata": {},
     "output_type": "execute_result"
    }
   ],
   "source": [
    "dat[~idxs]"
   ]
  },
  {
   "cell_type": "markdown",
   "metadata": {},
   "source": [
    "It's looking better now.  I appear to be dropping one good one as bad (2015-12-08) and one clearly bad one (2016-02-16 has no PSMs in step 2) has snuck in, classified as good.  However, these seem to balance out."
   ]
  },
  {
   "cell_type": "code",
   "execution_count": 45,
   "metadata": {
    "collapsed": false
   },
   "outputs": [
    {
     "data": {
      "text/plain": [
       "45.238095238095241"
      ]
     },
     "execution_count": 45,
     "metadata": {},
     "output_type": "execute_result"
    }
   ],
   "source": [
    "# How does this change the percentage of \"good runs?\"\n",
    "df1['good_run'].sum() / df1['run'].count() * 100"
   ]
  },
  {
   "cell_type": "code",
   "execution_count": 46,
   "metadata": {
    "collapsed": false
   },
   "outputs": [
    {
     "data": {
      "text/plain": [
       "100.0"
      ]
     },
     "execution_count": 46,
     "metadata": {},
     "output_type": "execute_result"
    }
   ],
   "source": [
    "no_runs = 100 - (df1['run'].count() / len(df1)) * 100\n",
    "\n",
    "good_runs = df1['good_run'].sum() / len(df1) * 100\n",
    "\n",
    "bad_runs = (~df1.dropna(subset=['run'])['good_run']).sum() / len(df1) * 100 \n",
    "\n",
    "good_runs + bad_runs + no_runs"
   ]
  },
  {
   "cell_type": "code",
   "execution_count": 47,
   "metadata": {
    "collapsed": false
   },
   "outputs": [
    {
     "data": {
      "image/png": "[encoded data removed]",
      "text/plain": [
       "<matplotlib.figure.Figure at 0x7f556f7bb390>"
      ]
     },
     "metadata": {},
     "output_type": "display_data"
    }
   ],
   "source": [
    "fig = plt.figure(figsize=(12, 9))\n",
    "\n",
    "p1 = plt.bar(1,good_runs, .5, color = 'g')\n",
    "p2 = plt.bar(1,bad_runs, .5, bottom=good_runs, color='y')\n",
    "p3 = plt.bar(1,no_runs, .5, bottom=good_runs+bad_runs, color='r')\n",
    "\n",
    "plt.xticks([1.25], ['Orbi3', ''], size = 20)\n",
    "plt.xlim(.75, 2)\n",
    "plt.ylabel('Percentage of MS time allotted', size=24)\n",
    "plt.yticks(np.arange(0, 101, 10), size=16)\n",
    "plt.ylim(0,100)\n",
    "plt.legend((p1[0], p2[0], p3[0]), ('Good data', 'Problematic run', 'Unable to run on date'), prop={'size':18})\n",
    "\n",
    "sns.despine()"
   ]
  },
  {
   "cell_type": "code",
   "execution_count": 48,
   "metadata": {
    "collapsed": false
   },
   "outputs": [
    {
     "name": "stdout",
     "output_type": "stream",
     "text": [
      "Days allotted on Orbi3 since last November:  47\n",
      "Days that produced runs with good data:  19\n",
      "Runs that had problems with at least 1 LC Step:  23\n",
      "Days when no run could be performed:  5\n"
     ]
    }
   ],
   "source": [
    "print('Days allotted on Orbi3 since last November: ', len(df1))\n",
    "print('Days that produced runs with good data: ', df1['good_run'].sum())\n",
    "print('Runs that had problems with at least 1 LC Step: ', (~df1.dropna(subset=['run'])['good_run']).sum())\n",
    "print('Days when no run could be performed: ', len(df1) - df1['run'].count()) "
   ]
  }
 ],
 "metadata": {
  "kernelspec": {
   "display_name": "Python 3",
   "language": "python",
   "name": "python3"
  },
  "language_info": {
   "codemirror_mode": {
    "name": "ipython",
    "version": 3
   },
   "file_extension": ".py",
   "mimetype": "text/x-python",
   "name": "python",
   "nbconvert_exporter": "python",
   "pygments_lexer": "ipython3",
   "version": "3.4.3"
  }
 },
 "nbformat": 4,
 "nbformat_minor": 0
}
