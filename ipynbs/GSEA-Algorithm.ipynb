{
 "cells": [
  {
   "cell_type": "markdown",
   "metadata": {},
   "source": [
    "# GSEA with gseapy"
   ]
  },
  {
   "cell_type": "code",
   "execution_count": 1,
   "metadata": {
    "collapsed": true
   },
   "outputs": [],
   "source": [
    "#Boilerplate Import \n",
    "import sys\n",
    "sys.path.append('..')\n",
    "import os\n",
    "from itertools import chain\n",
    "from collections import defaultdict\n",
    "import numpy as np\n",
    "import pandas as pd\n",
    "%matplotlib inline\n",
    "import matplotlib.pyplot as plt\n",
    "import seaborn as sns\n",
    "\n",
    "from scripts import utils\n",
    "from scripts.analysis import build_loci"
   ]
  },
  {
   "cell_type": "code",
   "execution_count": 2,
   "metadata": {
    "collapsed": false
   },
   "outputs": [],
   "source": [
    "BASE = '../data'\n",
    "\n",
    "unenr_grouped_loci = utils.load(os.path.join(BASE,\"unenriched_grouped_loci.pkl.gz\"))\n",
    "enr_grouped_loci = utils.load(os.path.join(BASE,\"enriched_grouped_loci_filt1.pkl.gz\"))\n",
    "grouped_loci = utils.load(os.path.join(BASE,\"grouped_loci_filt1.pkl.gz\"))"
   ]
  },
  {
   "cell_type": "code",
   "execution_count": 3,
   "metadata": {
    "collapsed": false
   },
   "outputs": [
    {
     "name": "stdout",
     "output_type": "stream",
     "text": [
      "load obo file go-basic.obo\n",
      "go-basic.obo: fmt(1.2) rel(2016-07-16) 46,953 GO Terms\n"
     ]
    }
   ],
   "source": [
    "import gseapy as gp\n",
    "import goatools\n",
    "\n",
    "obodag = goatools.obo_parser.GODag('go-basic.obo')"
   ]
  },
  {
   "cell_type": "code",
   "execution_count": 4,
   "metadata": {
    "collapsed": true
   },
   "outputs": [],
   "source": [
    "def make_ranked_df(grouped_loci):\n",
    "    df = build_loci.get_sig_df(grouped_loci)\n",
    "    \n",
    "    # set insiginifcant loci to the center rank of the gene list\n",
    "    df['logfc'] = df.where((abs(df['logfc']) <= 2) | (df['p_value'] <= 0.05))['logfc'].replace(np.nan, 0)\n",
    "    \n",
    "    # Right now FC ratios are light/heavy\n",
    "    # light == Tcell and heavy == RAG\n",
    "    # GSEA goes from low to High, so negative logFC values will come first\n",
    "    # This will give genes high in RAG highest priority\n",
    "    # Switching the sign with put the genes highest in Tcell mice up first\n",
    "    df['logfc'] = -1 * df['logfc']\n",
    "    \n",
    "    # filter out the mouse and human genes\n",
    "    mh_loci = build_loci.get_annotation_df(grouped_loci).query('mouse_human').index.tolist()\n",
    "    df = df.query('~(id in {})'.format(mh_loci))\n",
    "\n",
    "    \n",
    "    # prep the ranking dataframe to gesapy specs.\n",
    "    rank_df = df[['id', 'logfc']].rename(columns={'id': 'gene_name', 'logfc': 'rank'})\n",
    "    \n",
    "    return rank_df.sort_values('rank').reset_index(drop=True)\n"
   ]
  },
  {
   "cell_type": "code",
   "execution_count": 5,
   "metadata": {
    "collapsed": false
   },
   "outputs": [],
   "source": [
    "def make_go2Gene_map(grouped_loci, ontology='MF'):\n",
    "    ontology_map = {'MF': 'molecular_function', 'BP': 'biological_process', 'CC': 'cellular_component'}\n",
    "    \n",
    "    out = defaultdict(set)    \n",
    "    for l in grouped_loci:\n",
    "        if 'go' in l.annotations and l.avg_ratio != 0:\n",
    "            for go in l.annotations['go']:\n",
    "                if obodag[go].namespace == ontology_map[ontology]:\n",
    "                    out[go].add(l.cluster_id)\n",
    "                    for parent in obodag[go].get_all_parents():\n",
    "                        if obodag[parent].namespace == ontology_map[ontology]:\n",
    "                            out[parent].add(l.cluster_id)\n",
    "                \n",
    "    return out"
   ]
  },
  {
   "cell_type": "code",
   "execution_count": 6,
   "metadata": {
    "collapsed": true
   },
   "outputs": [],
   "source": [
    "def filter_go2gene_map(go_locus):\n",
    "    \n",
    "    # Remove \"very broad\" gene sets. Arbitrary definition: gene sets that emcompass >50% of all IDs\n",
    "    all_ids = set(chain(*go_locus.values()))\n",
    "    go_locus = {key: value for (key, value) in go_locus.items() if len(value) / len(all_ids) <= 0.5}\n",
    "\n",
    "    # Remove terms with less than 5 members: changed from 10 to 5 becasue small #s of proteins compared\n",
    "    # to what you would find wiht genes\n",
    "    go_locus = {key: value for (key, value) in go_locus.items() if len(value) >= 5}\n",
    "\n",
    "    # Remove child terms with identical gene sets as their parents\n",
    "    to_remove = set()\n",
    "    for parent in go_locus.keys():\n",
    "        # If child term has exact same members as parent, remove\n",
    "        child_ids = [x.id for x in obodag[parent].children if x.id in go_locus.keys()]\n",
    "        for child in child_ids:\n",
    "            if go_locus[child] == go_locus[parent]:\n",
    "                to_remove.add(child)\n",
    "    go_locus = {key: value for (key, value) in go_locus.items() if key not in to_remove}\n",
    "\n",
    "    # Remove sibling terms with identical gene sets\n",
    "    to_remove = set()\n",
    "    for brother in go_locus.keys():\n",
    "        for parent in obodag[brother].parents:\n",
    "            siblings = set([y.id for y in parent.children])\n",
    "            siblings.remove(brother)\n",
    "            for sibling in siblings:\n",
    "                if sibling in go_locus.keys() and go_locus[brother] == go_locus[sibling]:\n",
    "                    to_remove.add(sibling)\n",
    "    go_locus = {key: value for (key, value) in go_locus.items() if key not in to_remove}\n",
    "\n",
    "    return go_locus"
   ]
  },
  {
   "cell_type": "code",
   "execution_count": 7,
   "metadata": {
    "collapsed": true
   },
   "outputs": [],
   "source": [
    "def gomap_to_csv(go2gene, out_file = 'test.tsv'):\n",
    "\n",
    "    out = \"\"\n",
    "    for term, loci in go2gene.items():\n",
    "        out += \"{}\\t\".format(term)\n",
    "        out += \"{}\\t\".format(obodag[term].name)\n",
    "        out += '\\t'.join(list(map(str,loci)))\n",
    "        out += '\\n'\n",
    "        \n",
    "    with open(out_file, 'w') as fout:\n",
    "        fout.write(out)"
   ]
  },
  {
   "cell_type": "code",
   "execution_count": 8,
   "metadata": {
    "collapsed": true
   },
   "outputs": [],
   "source": [
    "def run_go_gsea(rank_df, g2g_map, seed):\n",
    "    \"\"\"\n",
    "    A ranked df and go2gene mapping returns the result dataframe for GSEA against all go-Terms\n",
    "    \n",
    "    loci must be grouped such that avg_ratio and p-values are correct for 1 phenotype\n",
    "    see rt_unenr_grouped_loci above for example\n",
    "    \"\"\"\n",
    "    import gseapy as gp\n",
    "        \n",
    "    # save the go 2 gene map, since gseapy doesn't seem to be able to use one already in memory\n",
    "    gomap_to_csv(g2g_map, 'temp.gmt')\n",
    "    \n",
    "    res = gp.prerank(rnk=rank_df, gene_sets='temp.gmt', outdir='tmp', min_size = 5, max_size=500, \n",
    "                     graph_num = len(g2g_map), savefigs=False, seed=seed)\n",
    "      \n",
    "    def get_go_name(term):\n",
    "        return obodag[term].name\n",
    "    \n",
    "    res['name'] = res.index.map(get_go_name)\n",
    "    \n",
    "    return res.sort_values('nes', ascending=False)"
   ]
  },
  {
   "cell_type": "code",
   "execution_count": 9,
   "metadata": {
    "collapsed": true
   },
   "outputs": [],
   "source": [
    "def plot_gsea_result(row, rank):\n",
    "    return gp.gsea_plot.gsea_plot(rank, row['name'], row.hit_index, row.nes, row.pval, row.fdr, row.rank_ES, phenoPos='Tcell', phenoNeg='RAG')"
   ]
  },
  {
   "cell_type": "code",
   "execution_count": 10,
   "metadata": {
    "collapsed": false
   },
   "outputs": [
    {
     "name": "stdout",
     "output_type": "stream",
     "text": [
      "Unfiltered: 516\tFiltered: 196\n"
     ]
    }
   ],
   "source": [
    "mf_map = make_go2Gene_map(unenr_grouped_loci)\n",
    "mf_map_f = filter_go2gene_map(mf_map)\n",
    "\n",
    "print('Unfiltered: {}\\tFiltered: {}'.format(len(mf_map), len(mf_map_f)))"
   ]
  },
  {
   "cell_type": "code",
   "execution_count": 11,
   "metadata": {
    "collapsed": false
   },
   "outputs": [
    {
     "name": "stdout",
     "output_type": "stream",
     "text": [
      "Unfiltered: 612\tFiltered: 196\n"
     ]
    }
   ],
   "source": [
    "bp_map = make_go2Gene_map(unenr_grouped_loci, 'BP')\n",
    "bp_map_f = filter_go2gene_map(bp_map)\n",
    "\n",
    "print('Unfiltered: {}\\tFiltered: {}'.format(len(bp_map), len(bp_map_f)))"
   ]
  },
  {
   "cell_type": "code",
   "execution_count": null,
   "metadata": {
    "collapsed": false
   },
   "outputs": [],
   "source": [
    "unen_rank =  make_ranked_df(unenr_grouped_loci)"
   ]
  },
  {
   "cell_type": "code",
   "execution_count": null,
   "metadata": {
    "collapsed": false
   },
   "outputs": [
    {
     "name": "stdout",
     "output_type": "stream",
     "text": [
      "117 gene_sets have been filtered out when max_size=500 and min_size=5\n",
      "79 gene_sets used for further calculating\n",
      "Start to compute enrichment socres...................... Thu Sep 22 19:08:29 2016\n",
      "Start to compute esnulls................................ Thu Sep 22 19:08:29 2016\n",
      "......This step might take a while to run. Be patient...\n",
      "Start to compute pvals.................................. Thu Sep 22 19:08:42 2016\n",
      "start to compute fdrs................................... Thu Sep 22 19:08:42 2016\n",
      "Statistial testing finished............................. Thu Sep 22 19:08:42 2016\n",
      "Start to generate gseapy reports, and produce figures... Thu Sep 22 19:08:42 2016\n",
      "Congratulations. GSEAPY run successfully................\n",
      "The Job is done.................................Goodbye! Thu Sep 22 19:08:42 2016\n",
      "95 gene_sets have been filtered out when max_size=500 and min_size=5\n",
      "101 gene_sets used for further calculating\n",
      "Start to compute enrichment socres...................... Thu Sep 22 19:08:43 2016\n",
      "Start to compute esnulls................................ Thu Sep 22 19:08:43 2016\n",
      "......This step might take a while to run. Be patient...\n"
     ]
    }
   ],
   "source": [
    "import warnings\n",
    "warnings.filterwarnings('ignore')\n",
    "\n",
    "mf_un_res = run_go_gsea(unen_rank, mf_map_f, seed=1111)\n",
    "bp_un_res = run_go_gsea(unen_rank, bp_map_f, seed=2222)"
   ]
  },
  {
   "cell_type": "code",
   "execution_count": null,
   "metadata": {
    "collapsed": false
   },
   "outputs": [],
   "source": [
    "mf_un_TC = mf_un_res.query('nes > 0 and pval < 0.05').sort_values('nes', ascending=False)\n",
    "mf_un_RAG = mf_un_res.query('nes < 0 and pval < 0.05').sort_values('nes', ascending=True)\n",
    "\n",
    "bp_un_TC = bp_un_res.query('nes > 0 and pval < 0.05').sort_values('nes', ascending=False)\n",
    "bp_un_RAG = bp_un_res.query('nes < 0 and pval < 0.05').sort_values('nes', ascending=True)"
   ]
  },
  {
   "cell_type": "markdown",
   "metadata": {},
   "source": [
    "### Molecular Function - Up in Tcell"
   ]
  },
  {
   "cell_type": "code",
   "execution_count": null,
   "metadata": {
    "collapsed": true
   },
   "outputs": [],
   "source": [
    "res_cols = ['name', 'es', 'nes', 'pval', 'fdr', 'gene_set_size', 'matched_size']"
   ]
  },
  {
   "cell_type": "code",
   "execution_count": null,
   "metadata": {
    "collapsed": false,
    "scrolled": true
   },
   "outputs": [],
   "source": [
    "mf_un_TC[res_cols]"
   ]
  },
  {
   "cell_type": "code",
   "execution_count": null,
   "metadata": {
    "collapsed": false
   },
   "outputs": [],
   "source": [
    "sns.set_style('dark')\n",
    "plot_gsea_result(mf_un_res.iloc[0], unen_rank)"
   ]
  },
  {
   "cell_type": "code",
   "execution_count": null,
   "metadata": {
    "collapsed": false
   },
   "outputs": [],
   "source": [
    "sns.set_style('dark')\n",
    "plot_gsea_result(mf_un_res.iloc[2], unen_rank)"
   ]
  },
  {
   "cell_type": "markdown",
   "metadata": {},
   "source": [
    "### Biological Process - Up in Tcell"
   ]
  },
  {
   "cell_type": "code",
   "execution_count": null,
   "metadata": {
    "collapsed": false,
    "scrolled": false
   },
   "outputs": [],
   "source": [
    "bp_un_TC[res_cols]"
   ]
  },
  {
   "cell_type": "code",
   "execution_count": null,
   "metadata": {
    "collapsed": false
   },
   "outputs": [],
   "source": [
    "plot_gsea_result(bp_un_res.loc['GO:0016052'], unen_rank)"
   ]
  },
  {
   "cell_type": "markdown",
   "metadata": {},
   "source": [
    "### Molecular Function - Up in RAG"
   ]
  },
  {
   "cell_type": "code",
   "execution_count": null,
   "metadata": {
    "collapsed": false,
    "scrolled": false
   },
   "outputs": [],
   "source": [
    "mf_un_RAG[res_cols]"
   ]
  },
  {
   "cell_type": "code",
   "execution_count": null,
   "metadata": {
    "collapsed": false
   },
   "outputs": [],
   "source": [
    "plot_gsea_result(mf_un_res.loc['GO:0016817'], unen_rank)"
   ]
  },
  {
   "cell_type": "markdown",
   "metadata": {},
   "source": [
    "### Biological Process - Up in RAG"
   ]
  },
  {
   "cell_type": "code",
   "execution_count": null,
   "metadata": {
    "collapsed": false,
    "scrolled": false
   },
   "outputs": [],
   "source": [
    "bp_un_RAG[res_cols]"
   ]
  },
  {
   "cell_type": "code",
   "execution_count": null,
   "metadata": {
    "collapsed": false
   },
   "outputs": [],
   "source": [
    "plot_gsea_result(bp_un_res.iloc[0], unen_rank)"
   ]
  },
  {
   "cell_type": "markdown",
   "metadata": {},
   "source": [
    "## GSEA on BioGlyCMK Enriched Samples"
   ]
  },
  {
   "cell_type": "code",
   "execution_count": null,
   "metadata": {
    "collapsed": true
   },
   "outputs": [],
   "source": [
    "enr_rank =  make_ranked_df(enr_grouped_loci)"
   ]
  },
  {
   "cell_type": "code",
   "execution_count": null,
   "metadata": {
    "collapsed": false
   },
   "outputs": [],
   "source": [
    "# [l for l in enr_grouped_loci if l.cluster_id in enr_rank['gene_name'].tolist()]\n",
    "enr_mf_map = make_go2Gene_map(enr_grouped_loci)\n",
    "enr_mf_map_f = filter_go2gene_map(enr_mf_map)\n",
    "print('MF Unfiltered: {}\\tFiltered: {}'.format(len(enr_mf_map), len(enr_mf_map_f)))\n",
    "\n",
    "enr_bp_map = make_go2Gene_map(enr_grouped_loci, 'BP')\n",
    "enr_bp_map_f = filter_go2gene_map(enr_bp_map)\n",
    "print('BP Unfiltered: {}\\tFiltered: {}'.format(len(enr_bp_map), len(enr_bp_map_f)))"
   ]
  },
  {
   "cell_type": "code",
   "execution_count": null,
   "metadata": {
    "collapsed": false,
    "scrolled": true
   },
   "outputs": [],
   "source": [
    "mf_enr_res = run_go_gsea(enr_rank, enr_mf_map_f, seed=1234)\n",
    "bp_enr_res = run_go_gsea(enr_rank, enr_bp_map_f, seed=4321)"
   ]
  },
  {
   "cell_type": "code",
   "execution_count": null,
   "metadata": {
    "collapsed": true
   },
   "outputs": [],
   "source": [
    "mf_enr_TC = mf_enr_res.query('nes > 0 and pval < 0.05').sort_values('nes', ascending=False)\n",
    "mf_enr_RAG = mf_enr_res.query('nes < 0 and pval < 0.05').sort_values('nes', ascending=True)\n",
    "\n",
    "bp_enr_TC = bp_enr_res.query('nes > 0 and pval < 0.05').sort_values('nes', ascending=False)\n",
    "bp_enr_RAG = bp_enr_res.query('nes < 0 and pval < 0.05').sort_values('nes', ascending=True)"
   ]
  },
  {
   "cell_type": "markdown",
   "metadata": {},
   "source": [
    "### Up in T-Cell: Molecular Function"
   ]
  },
  {
   "cell_type": "code",
   "execution_count": null,
   "metadata": {
    "collapsed": false
   },
   "outputs": [],
   "source": [
    "mf_enr_TC[res_cols]"
   ]
  },
  {
   "cell_type": "code",
   "execution_count": null,
   "metadata": {
    "collapsed": false
   },
   "outputs": [],
   "source": [
    "obodag.query_term('GO:0016810')"
   ]
  },
  {
   "cell_type": "code",
   "execution_count": null,
   "metadata": {
    "collapsed": false
   },
   "outputs": [],
   "source": [
    "plot_gsea_result(mf_enr_res.loc['GO:0004175'], enr_rank)"
   ]
  },
  {
   "cell_type": "code",
   "execution_count": null,
   "metadata": {
    "collapsed": false
   },
   "outputs": [],
   "source": [
    "plot_gsea_result(mf_enr_res.loc['GO:0016787'], enr_rank)"
   ]
  },
  {
   "cell_type": "markdown",
   "metadata": {},
   "source": [
    "### Up in T-Cell: Biological Process"
   ]
  },
  {
   "cell_type": "code",
   "execution_count": null,
   "metadata": {
    "collapsed": false,
    "scrolled": true
   },
   "outputs": [],
   "source": [
    "bp_enr_TC[res_cols]"
   ]
  },
  {
   "cell_type": "code",
   "execution_count": null,
   "metadata": {
    "collapsed": false
   },
   "outputs": [],
   "source": [
    "plot_gsea_result(bp_enr_res.loc['GO:0006508'], enr_rank)"
   ]
  },
  {
   "cell_type": "code",
   "execution_count": null,
   "metadata": {
    "collapsed": false
   },
   "outputs": [],
   "source": [
    "plot_gsea_result(bp_enr_res.loc['GO:0019538'], enr_rank)"
   ]
  },
  {
   "cell_type": "markdown",
   "metadata": {},
   "source": [
    "### Up in RAG: Molecular Function"
   ]
  },
  {
   "cell_type": "code",
   "execution_count": null,
   "metadata": {
    "collapsed": false,
    "scrolled": false
   },
   "outputs": [],
   "source": [
    "mf_enr_RAG[res_cols]"
   ]
  },
  {
   "cell_type": "code",
   "execution_count": null,
   "metadata": {
    "collapsed": false
   },
   "outputs": [],
   "source": [
    "plot_gsea_result(mf_enr_res.loc['GO:0016781'], enr_rank)"
   ]
  },
  {
   "cell_type": "markdown",
   "metadata": {},
   "source": [
    "### Up in RAG: Biological Process"
   ]
  },
  {
   "cell_type": "code",
   "execution_count": null,
   "metadata": {
    "collapsed": false,
    "scrolled": false
   },
   "outputs": [],
   "source": [
    "bp_enr_RAG[res_cols]"
   ]
  },
  {
   "cell_type": "code",
   "execution_count": null,
   "metadata": {
    "collapsed": false
   },
   "outputs": [],
   "source": [
    "plot_gsea_result(bp_enr_res.loc['GO:0006457'], enr_rank)"
   ]
  }
 ],
 "metadata": {
  "kernelspec": {
   "display_name": "Python 3",
   "language": "python",
   "name": "python3"
  },
  "language_info": {
   "codemirror_mode": {
    "name": "ipython",
    "version": 3
   },
   "file_extension": ".py",
   "mimetype": "text/x-python",
   "name": "python",
   "nbconvert_exporter": "python",
   "pygments_lexer": "ipython3",
   "version": "3.5.2"
  }
 },
 "nbformat": 4,
 "nbformat_minor": 0
}
