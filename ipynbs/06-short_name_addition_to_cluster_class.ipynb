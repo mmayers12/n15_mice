{
 "cells": [
  {
   "cell_type": "markdown",
   "metadata": {},
   "source": [
    "# Add names to each cluster\n",
    "\n",
    "Quickly use a new feature of the [Metaproteomics package](https://bitbucket.org/sulab/metaproteomics) (from which a lot of this repo is derived) to add names to currently unnamed protein clusters"
   ]
  },
  {
   "cell_type": "code",
   "execution_count": 1,
   "metadata": {
    "collapsed": true
   },
   "outputs": [],
   "source": [
    "import sys\n",
    "sys.path.append('..')\n",
    "import os\n",
    "\n",
    "from scripts import utils\n",
    "\n",
    "from metaproteomics.analysis import name_clusters"
   ]
  },
  {
   "cell_type": "code",
   "execution_count": 2,
   "metadata": {
    "collapsed": true
   },
   "outputs": [],
   "source": [
    "unenr_grouped_loci = utils.load(os.path.join(BASE,\"unenriched_grouped_loci_adj.pkl.gz\"))\n",
    "enr_grouped_loci = utils.load(os.path.join(BASE,\"enriched_grouped_loci_filt1_adj.pkl.gz\"))\n",
    "grouped_loci = utils.load(os.path.join(BASE, \"grouped_loci_filt1.pkl.gz\"))"
   ]
  },
  {
   "cell_type": "code",
   "execution_count": 3,
   "metadata": {
    "collapsed": false
   },
   "outputs": [],
   "source": [
    "for locus in grouped_loci:\n",
    "    locus.short_name = name_clusters.name(locus)"
   ]
  },
  {
   "cell_type": "code",
   "execution_count": 4,
   "metadata": {
    "collapsed": false
   },
   "outputs": [],
   "source": [
    "for locus in unenr_grouped_loci:\n",
    "    locus.short_name = name_clusters.name(locus)"
   ]
  },
  {
   "cell_type": "code",
   "execution_count": 5,
   "metadata": {
    "collapsed": false
   },
   "outputs": [],
   "source": [
    "for locus in enr_grouped_loci:\n",
    "    locus.short_name = name_clusters.name(locus)"
   ]
  },
  {
   "cell_type": "code",
   "execution_count": 6,
   "metadata": {
    "collapsed": false
   },
   "outputs": [],
   "source": [
    "utils.save(unenr_grouped_loci, os.path.join(BASE,\"unenriched_grouped_loci_adj.pkl.gz\"), force=True)\n",
    "utils.save(enr_grouped_loci, os.path.join(BASE,\"enriched_grouped_loci_filt1_adj.pkl.gz\"), force=True)\n",
    "utils.save(grouped_loci, os.path.join(BASE, \"grouped_loci_filt1.pkl.gz\"), force=True)"
   ]
  }
 ],
 "metadata": {
  "kernelspec": {
   "display_name": "Python 3",
   "language": "python",
   "name": "python3"
  },
  "language_info": {
   "codemirror_mode": {
    "name": "ipython",
    "version": 3
   },
   "file_extension": ".py",
   "mimetype": "text/x-python",
   "name": "python",
   "nbconvert_exporter": "python",
   "pygments_lexer": "ipython3",
   "version": "3.5.2"
  }
 },
 "nbformat": 4,
 "nbformat_minor": 0
}
